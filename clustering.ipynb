{
 "cells": [
  {
   "cell_type": "code",
   "execution_count": 17,
   "id": "9eef88cb",
   "metadata": {},
   "outputs": [],
   "source": [
    "import pandas as pd \n",
    "from matplotlib import pyplot as plt \n",
    "import seaborn as sns \n",
    "from sklearn.cluster import KMeans\n",
    "import numpy as np\n",
    "from sklearn.preprocessing import MinMaxScaler,OneHotEncoder\n",
    "from sklearn.compose import ColumnTransformer\n",
    "from sklearn.pipeline import Pipeline"
   ]
  },
  {
   "cell_type": "code",
   "execution_count": 18,
   "id": "0dbdb633",
   "metadata": {},
   "outputs": [],
   "source": [
    "df = pd.read_csv(\"Final.csv\")\n",
    "df = df.drop(columns=[\"Unnamed: 0\",\"online_order\",\"past_3_years_bike_related_purchases\",\"transaction_month\"], axis =1)\n",
    "pd.set_option(\"display.max_columns\",100)"
   ]
  },
  {
   "cell_type": "code",
   "execution_count": 20,
   "id": "64bf2ccf",
   "metadata": {},
   "outputs": [
    {
     "data": {
      "text/html": [
       "<div>\n",
       "<style scoped>\n",
       "    .dataframe tbody tr th:only-of-type {\n",
       "        vertical-align: middle;\n",
       "    }\n",
       "\n",
       "    .dataframe tbody tr th {\n",
       "        vertical-align: top;\n",
       "    }\n",
       "\n",
       "    .dataframe thead th {\n",
       "        text-align: right;\n",
       "    }\n",
       "</style>\n",
       "<table border=\"1\" class=\"dataframe\">\n",
       "  <thead>\n",
       "    <tr style=\"text-align: right;\">\n",
       "      <th></th>\n",
       "      <th>brand</th>\n",
       "      <th>gender</th>\n",
       "      <th>age</th>\n",
       "      <th>job_title</th>\n",
       "      <th>owns_car</th>\n",
       "      <th>tenure</th>\n",
       "      <th>state</th>\n",
       "      <th>property_valuation</th>\n",
       "      <th>profit</th>\n",
       "    </tr>\n",
       "  </thead>\n",
       "  <tbody>\n",
       "    <tr>\n",
       "      <th>0</th>\n",
       "      <td>Solex</td>\n",
       "      <td>M</td>\n",
       "      <td>66.0</td>\n",
       "      <td>Software Engineer I</td>\n",
       "      <td>Yes</td>\n",
       "      <td>10.0</td>\n",
       "      <td>VIC</td>\n",
       "      <td>6.0</td>\n",
       "      <td>17.87</td>\n",
       "    </tr>\n",
       "    <tr>\n",
       "      <th>1</th>\n",
       "      <td>Giant Bicycles</td>\n",
       "      <td>M</td>\n",
       "      <td>66.0</td>\n",
       "      <td>Software Engineer I</td>\n",
       "      <td>Yes</td>\n",
       "      <td>10.0</td>\n",
       "      <td>VIC</td>\n",
       "      <td>6.0</td>\n",
       "      <td>448.68</td>\n",
       "    </tr>\n",
       "    <tr>\n",
       "      <th>2</th>\n",
       "      <td>Solex</td>\n",
       "      <td>M</td>\n",
       "      <td>66.0</td>\n",
       "      <td>Software Engineer I</td>\n",
       "      <td>Yes</td>\n",
       "      <td>10.0</td>\n",
       "      <td>VIC</td>\n",
       "      <td>6.0</td>\n",
       "      <td>179.44</td>\n",
       "    </tr>\n",
       "    <tr>\n",
       "      <th>3</th>\n",
       "      <td>Trek Bicycles</td>\n",
       "      <td>F</td>\n",
       "      <td>42.0</td>\n",
       "      <td>Clinical Specialist</td>\n",
       "      <td>Yes</td>\n",
       "      <td>10.0</td>\n",
       "      <td>NSW</td>\n",
       "      <td>5.0</td>\n",
       "      <td>1702.55</td>\n",
       "    </tr>\n",
       "    <tr>\n",
       "      <th>4</th>\n",
       "      <td>Giant Bicycles</td>\n",
       "      <td>F</td>\n",
       "      <td>42.0</td>\n",
       "      <td>Clinical Specialist</td>\n",
       "      <td>Yes</td>\n",
       "      <td>10.0</td>\n",
       "      <td>NSW</td>\n",
       "      <td>5.0</td>\n",
       "      <td>451.65</td>\n",
       "    </tr>\n",
       "  </tbody>\n",
       "</table>\n",
       "</div>"
      ],
      "text/plain": [
       "            brand gender   age            job_title owns_car  tenure state  \\\n",
       "0           Solex      M  66.0  Software Engineer I      Yes    10.0   VIC   \n",
       "1  Giant Bicycles      M  66.0  Software Engineer I      Yes    10.0   VIC   \n",
       "2           Solex      M  66.0  Software Engineer I      Yes    10.0   VIC   \n",
       "3   Trek Bicycles      F  42.0  Clinical Specialist      Yes    10.0   NSW   \n",
       "4  Giant Bicycles      F  42.0  Clinical Specialist      Yes    10.0   NSW   \n",
       "\n",
       "   property_valuation   profit  \n",
       "0                 6.0    17.87  \n",
       "1                 6.0   448.68  \n",
       "2                 6.0   179.44  \n",
       "3                 5.0  1702.55  \n",
       "4                 5.0   451.65  "
      ]
     },
     "execution_count": 20,
     "metadata": {},
     "output_type": "execute_result"
    }
   ],
   "source": [
    "df = df[[\"brand\",\"gender\",\"age\",\"job_title\",\"owns_car\",\"tenure\",\"state\",\"property_valuation\",\"profit\"]]\n",
    "df.head()"
   ]
  },
  {
   "cell_type": "code",
   "execution_count": 21,
   "id": "caf40872",
   "metadata": {},
   "outputs": [],
   "source": [
    "categorical_variables = df.select_dtypes(include=[\"object\"]).columns.to_list()\n",
    "numerical_variables = df.select_dtypes(include = [\"float64\"]).columns.to_list()"
   ]
  },
  {
   "cell_type": "code",
   "execution_count": 22,
   "id": "5bd976ab",
   "metadata": {},
   "outputs": [],
   "source": [
    "column_transform = ColumnTransformer(transformers = [(\"catToNum\", OneHotEncoder(), categorical_variables), (\"scaleNum\",MinMaxScaler(),numerical_variables)])  # handle_unknown='ignore' for OHE"
   ]
  },
  {
   "cell_type": "code",
   "execution_count": 23,
   "id": "13db74a7",
   "metadata": {},
   "outputs": [],
   "source": [
    "df = df.dropna()"
   ]
  },
  {
   "cell_type": "code",
   "execution_count": null,
   "id": "b2b28b43",
   "metadata": {},
   "outputs": [],
   "source": [
    "wcss = {}\n",
    "for k in range(2,20):\n",
    "    model = KMeans(n_clusters = k, init = \"k-means++\", n_init =10, max_iter = 500)\n",
    "    pipe = Pipeline(steps = [(\"ColumnTransformer\",column_transform),(\"MlAlgorithm\",model)])\n",
    "    kmeans = pipe.fit(df)\n",
    "    wcss[k] = kmeans[\"MlAlgorithm\"].inertia_"
   ]
  },
  {
   "cell_type": "code",
   "execution_count": null,
   "id": "57e023fa",
   "metadata": {},
   "outputs": [],
   "source": [
    "wcssDF = pd.DataFrame.from_dict(wcss, orient = \"index\")\n",
    "wcssDF.plot()"
   ]
  },
  {
   "cell_type": "code",
   "execution_count": null,
   "id": "c9486275",
   "metadata": {},
   "outputs": [],
   "source": [
    "wcss = {}\n",
    "for k in range(20,30):\n",
    "    model = KMeans(n_clusters = k, init = \"k-means++\", n_init =10, max_iter = 500)\n",
    "    pipe = Pipeline(steps = [(\"ColumnTransformer\",column_transform),(\"MlAlgorithm\",model)])\n",
    "    kmeans = pipe.fit(df)\n",
    "    wcss[k] = kmeans[\"MlAlgorithm\"].inertia_"
   ]
  },
  {
   "cell_type": "code",
   "execution_count": null,
   "id": "ca705d44",
   "metadata": {},
   "outputs": [],
   "source": [
    "wcssDF = pd.DataFrame.from_dict(wcss, orient = \"index\")\n",
    "wcssDF.plot()"
   ]
  },
  {
   "cell_type": "code",
   "execution_count": 9,
   "id": "64e45a51",
   "metadata": {},
   "outputs": [],
   "source": [
    "model = KMeans(n_clusters = 4, init = \"k-means++\", n_init =10, max_iter = 1000)\n",
    "pipe = Pipeline(steps = [(\"ColumnTransformer\",column_transform),(\"MlAlgorithm\",model)])\n",
    "kmeans = pipe.fit(df)"
   ]
  },
  {
   "cell_type": "code",
   "execution_count": 10,
   "id": "03340ba0",
   "metadata": {},
   "outputs": [
    {
     "data": {
      "text/plain": [
       "array([0, 0, 0, ..., 1, 3, 3])"
      ]
     },
     "execution_count": 10,
     "metadata": {},
     "output_type": "execute_result"
    }
   ],
   "source": [
    "kmeans[\"MlAlgorithm\"].labels_"
   ]
  },
  {
   "cell_type": "code",
   "execution_count": 11,
   "id": "ed711b0e",
   "metadata": {},
   "outputs": [],
   "source": [
    "df[\"label\"] = kmeans[\"MlAlgorithm\"].labels_"
   ]
  },
  {
   "cell_type": "code",
   "execution_count": 14,
   "id": "0c46cb64",
   "metadata": {},
   "outputs": [
    {
     "data": {
      "text/plain": [
       "Index(['brand', 'product_line', 'product_class', 'product_size', 'gender',\n",
       "       'age', 'job_title', 'job_industry_category', 'wealth_segment',\n",
       "       'owns_car', 'tenure', 'state', 'property_valuation', 'profit', 'label'],\n",
       "      dtype='object')"
      ]
     },
     "execution_count": 14,
     "metadata": {},
     "output_type": "execute_result"
    },
    {
     "data": {
      "image/png": "[encoded data removed]",
      "text/plain": [
       "<Figure size 432x288 with 1 Axes>"
      ]
     },
     "metadata": {
      "needs_background": "light"
     },
     "output_type": "display_data"
    }
   ],
   "source": [
    "sns.scatterplot(x=\"brand\",y=\"age\",hue=\"label\",data = df)\n",
    "df.columns"
   ]
  },
  {
   "cell_type": "code",
   "execution_count": null,
   "id": "3c46a144",
   "metadata": {},
   "outputs": [],
   "source": [
    "# df[categorical_variables+[\"label\"]].groupby(\"label\").agg([\"mean\"]).T\n",
    "# df[categorical_variables+[\"label\"]].groupby(\"label\").mode()\n",
    "# df.groupby(['label']).agg(lambda x:x.value_counts().index[0])"
   ]
  },
  {
   "cell_type": "code",
   "execution_count": null,
   "id": "54dc7484",
   "metadata": {},
   "outputs": [],
   "source": []
  },
  {
   "cell_type": "code",
   "execution_count": null,
   "id": "5459d2d5",
   "metadata": {},
   "outputs": [],
   "source": []
  },
  {
   "cell_type": "code",
   "execution_count": null,
   "id": "97721d76",
   "metadata": {},
   "outputs": [],
   "source": []
  },
  {
   "cell_type": "code",
   "execution_count": null,
   "id": "ca3998d2",
   "metadata": {},
   "outputs": [],
   "source": []
  },
  {
   "cell_type": "code",
   "execution_count": null,
   "id": "f7faebd7",
   "metadata": {},
   "outputs": [],
   "source": []
  },
  {
   "cell_type": "code",
   "execution_count": null,
   "id": "daea25e0",
   "metadata": {},
   "outputs": [],
   "source": []
  },
  {
   "cell_type": "markdown",
   "id": "6cb2c152",
   "metadata": {},
   "source": [
    "# K-Prototype"
   ]
  },
  {
   "cell_type": "code",
   "execution_count": null,
   "id": "3888a8a7",
   "metadata": {},
   "outputs": [],
   "source": [
    "# df = pd.read_csv(\"Final.csv\")\n",
    "# df = df.drop(columns=[\"Unnamed: 0\"], axis =1)\n",
    "# df = df.dropna()\n",
    "# df.head(0)"
   ]
  },
  {
   "cell_type": "code",
   "execution_count": null,
   "id": "02cfdc22",
   "metadata": {},
   "outputs": [],
   "source": [
    "# cat = df.select_dtypes(include = [\"object\"]).columns\n",
    "# categoical_indices = []\n",
    "# for column in df.columns.to_list():\n",
    "#     categoical_columns.append(df.columns.get_loc(column))\n",
    "\n"
   ]
  },
  {
   "cell_type": "code",
   "execution_count": null,
   "id": "1714dff0",
   "metadata": {},
   "outputs": [],
   "source": []
  },
  {
   "cell_type": "code",
   "execution_count": null,
   "id": "506370d7",
   "metadata": {},
   "outputs": [],
   "source": []
  },
  {
   "cell_type": "code",
   "execution_count": null,
   "id": "dd9ca708",
   "metadata": {},
   "outputs": [],
   "source": []
  }
 ],
 "metadata": {
  "kernelspec": {
   "display_name": "Python 3 (ipykernel)",
   "language": "python",
   "name": "python3"
  },
  "language_info": {
   "codemirror_mode": {
    "name": "ipython",
    "version": 3
   },
   "file_extension": ".py",
   "mimetype": "text/x-python",
   "name": "python",
   "nbconvert_exporter": "python",
   "pygments_lexer": "ipython3",
   "version": "3.8.11"
  }
 },
 "nbformat": 4,
 "nbformat_minor": 5
}
