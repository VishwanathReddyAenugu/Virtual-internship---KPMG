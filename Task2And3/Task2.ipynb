{
 "cells": [
  {
   "cell_type": "markdown",
   "id": "2e47aedb",
   "metadata": {},
   "source": [
    "\n",
    "## Task 2\n",
    "Create a PowerPoint presentation wihch outlines the approach we will be taking to identify which of the 1000 customers Sprocket Central Pty Ltd should target, based on this dataset. Explain the three phases:  Data Exploration; Model Development and Interpretation.\n",
    "\n",
    "\n",
    "Sprocket Central Pty Ltd has given us a new list of 1000 potential customers with their demographics and attributes. However, these customers do not have prior transaction history with the organisation. \n",
    "\n",
    "The marketing team at Sprocket Central Pty Ltd is sure that, if correctly analysed, the data would reveal useful customer insights which could help optimise resource allocation for targeted marketing. Hence, improve performance by focusing on high value customers.\n",
    "\n",
    "\n",
    "\n",
    "For context, Sprocket Central Pty Ltd is a long-standing KPMG client whom specialises in high-quality bikes and accessible cycling accessories to riders. Their marketing team is looking to boost business by analysing their existing customer dataset to determine customer trends and behaviour. \n",
    "\n",
    "Using the existing 3 datasets (Customer demographic, customer address and transactions) as a labelled dataset, please recommend which of these 1000 new customers should be targeted to drive the most value for the organisation. \n",
    "\n",
    "In building this recommendation, we need to start with a PowerPoint presentation which outlines the approach which we will be taking. The client has agreed on a 3 week scope with the following 3 phases as follows - Data Exploration; Model Development and Interpretation.\n",
    "\n",
    "Prepare a detailed approach for completing the analysis including activities – i.e. understanding the data distributions, feature engineering, data transformations, modelling, results interpretation and reporting. This detailed plan needs to be presented to the client to get a sign-off. Please advise what steps you would take. \n",
    "\n",
    "Please ensure your PowerPoint presentation includes a detailed approach for our strategy behind each of the 3 phases including activities involved in each - i.e. understanding the data distributions, feature engineering, data transformations, modelling, results interpretation and reporting. This detailed plan needs to be presented to the client to get a sign-off.\n",
    "\n",
    "--\n",
    "Tips: Raw data fields may be transformed into other calculated fields for modelling purposes (i.e. converting D.O.B to age or age groups).  ",
    "Tips: You may source external data from the ABS / Census to add additional variables that may help support your model.\n",
    "\n",
    "\n",
    "#### list_price : The list price, also known as the manufacturer's suggested retail price (MSRP), or the recommended retail price (RRP)\n",
    "#### standard_cost :Standard costs are estimates of the actual costs in a company's production process, because actual costs cannot be known in advance.\n",
    "\n",
    "#### clustering customers by the buisness value they generate"
   ]
  },
  {
   "cell_type": "code",
   "execution_count": 117,
   "id": "e8ca6c26",
   "metadata": {},
   "outputs": [],
   "source": [
    "# https://www.kaggle.com/karnikakapoor/customer-segmentation-clustering\n",
    "# https://square.github.io/pysurvival/tutorials/churn.html\n",
    "# https://towardsdatascience.com/data-driven-growth-with-python-part-2-customer-segmentation-5c019d150444"
   ]
  },
  {
   "cell_type": "markdown",
   "id": "4da33254",
   "metadata": {},
   "source": [
    "## Objectives\n",
    "\n",
    "##### 1) Find high value customers\n",
    "##### 2) Determine customer trends and behaviour\n",
    "##### 3) which of these 1000 new customers should be targeted to drive the most value for the organisation\n",
    "##### 4) Data Exploration; Model Development and Interpretation- PPT on the project approach(understanding the data distributions, feature engineering, data transformations, modelling, results interpretation and reporting)\n",
    "\n",
    "##### can customers be clustered based on their value?\n"
   ]
  },
  {
   "cell_type": "code",
   "execution_count": 118,
   "id": "63bdf298",
   "metadata": {},
   "outputs": [
    {
     "data": {
      "text/plain": [
       "<Figure size 432x288 with 0 Axes>"
      ]
     },
     "metadata": {},
     "output_type": "display_data"
    }
   ],
   "source": [
    "import pandas as pd \n",
    "from matplotlib import pyplot as plt \n",
    "import seaborn as sns \n",
    "from datetime import date\n",
    "import numpy as np\n",
    "# K - means\n",
    "from sklearn.cluster import KMeans\n",
    "from sklearn.pipeline import Pipeline\n",
    "\n",
    "import DataReporter\n",
    "%run -i DataReporter.py\n",
    "import warnings\n",
    "warnings.filterwarnings('ignore')"
   ]
  },
  {
   "cell_type": "code",
   "execution_count": 119,
   "id": "be1eb2cc",
   "metadata": {},
   "outputs": [],
   "source": [
    "excelFile = pd.ExcelFile(\"newData.xlsx\")   "
   ]
  },
  {
   "cell_type": "code",
   "execution_count": 120,
   "id": "65da2a4e",
   "metadata": {},
   "outputs": [],
   "source": [
    "Transactions = pd.read_excel(excelFile, 'Transactions', skiprows=[0]) \n",
    "CustomerDemographic = pd.read_excel(excelFile,'CustomerDemographic', skiprows=[0]) \n",
    "CustomerAddress = pd.read_excel(excelFile, 'CustomerAddress', skiprows=[0])\n",
    "newCustomers = pd.read_excel(excelFile,\"NewCustomerList\", skiprows = [0])\n",
    "pd.set_option(\"display.max_columns\",100)\n",
    "pd.set_option(\"display.max_rows\",None) "
   ]
  },
  {
   "cell_type": "code",
   "execution_count": 121,
   "id": "bbc99cc8",
   "metadata": {},
   "outputs": [],
   "source": [
    "df = pd.merge(CustomerDemographic,CustomerAddress, on=\"customer_id\")  \n",
    "df = pd.merge(Transactions,df, on=\"customer_id\") "
   ]
  },
  {
   "cell_type": "code",
   "execution_count": 122,
   "id": "4b077348",
   "metadata": {},
   "outputs": [],
   "source": [
    "# df = df.drop(axis=1,columns=[\"default\",\"country\"])\n",
    "df = df.drop(axis=1,columns=[\"default\"])"
   ]
  },
  {
   "cell_type": "code",
   "execution_count": 123,
   "id": "85d98987",
   "metadata": {},
   "outputs": [
    {
     "data": {
      "text/html": [
       "<div>\n",
       "<style scoped>\n",
       "    .dataframe tbody tr th:only-of-type {\n",
       "        vertical-align: middle;\n",
       "    }\n",
       "\n",
       "    .dataframe tbody tr th {\n",
       "        vertical-align: top;\n",
       "    }\n",
       "\n",
       "    .dataframe thead th {\n",
       "        text-align: right;\n",
       "    }\n",
       "</style>\n",
       "<table border=\"1\" class=\"dataframe\">\n",
       "  <thead>\n",
       "    <tr style=\"text-align: right;\">\n",
       "      <th></th>\n",
       "      <th>transaction_id</th>\n",
       "      <th>product_id</th>\n",
       "      <th>customer_id</th>\n",
       "      <th>transaction_date</th>\n",
       "      <th>online_order</th>\n",
       "      <th>order_status</th>\n",
       "      <th>brand</th>\n",
       "      <th>product_line</th>\n",
       "      <th>product_class</th>\n",
       "      <th>product_size</th>\n",
       "      <th>list_price</th>\n",
       "      <th>standard_cost</th>\n",
       "      <th>product_first_sold_date</th>\n",
       "      <th>first_name</th>\n",
       "      <th>last_name</th>\n",
       "      <th>gender</th>\n",
       "      <th>past_3_years_bike_related_purchases</th>\n",
       "      <th>DOB</th>\n",
       "      <th>job_title</th>\n",
       "      <th>job_industry_category</th>\n",
       "      <th>wealth_segment</th>\n",
       "      <th>deceased_indicator</th>\n",
       "      <th>owns_car</th>\n",
       "      <th>tenure</th>\n",
       "      <th>address</th>\n",
       "      <th>postcode</th>\n",
       "      <th>state</th>\n",
       "      <th>country</th>\n",
       "      <th>property_valuation</th>\n",
       "    </tr>\n",
       "  </thead>\n",
       "  <tbody>\n",
       "    <tr>\n",
       "      <th>0</th>\n",
       "      <td>1</td>\n",
       "      <td>2</td>\n",
       "      <td>2950</td>\n",
       "      <td>2017-02-25</td>\n",
       "      <td>0.0</td>\n",
       "      <td>Approved</td>\n",
       "      <td>Solex</td>\n",
       "      <td>Standard</td>\n",
       "      <td>medium</td>\n",
       "      <td>medium</td>\n",
       "      <td>71.49</td>\n",
       "      <td>53.62</td>\n",
       "      <td>41245.0</td>\n",
       "      <td>Kristos</td>\n",
       "      <td>Anthony</td>\n",
       "      <td>Male</td>\n",
       "      <td>19</td>\n",
       "      <td>1955-01-11</td>\n",
       "      <td>Software Engineer I</td>\n",
       "      <td>Financial Services</td>\n",
       "      <td>Mass Customer</td>\n",
       "      <td>N</td>\n",
       "      <td>Yes</td>\n",
       "      <td>10.0</td>\n",
       "      <td>984 Hoepker Court</td>\n",
       "      <td>3064</td>\n",
       "      <td>VIC</td>\n",
       "      <td>Australia</td>\n",
       "      <td>6</td>\n",
       "    </tr>\n",
       "    <tr>\n",
       "      <th>1</th>\n",
       "      <td>11065</td>\n",
       "      <td>1</td>\n",
       "      <td>2950</td>\n",
       "      <td>2017-10-16</td>\n",
       "      <td>0.0</td>\n",
       "      <td>Approved</td>\n",
       "      <td>Giant Bicycles</td>\n",
       "      <td>Standard</td>\n",
       "      <td>medium</td>\n",
       "      <td>medium</td>\n",
       "      <td>1403.50</td>\n",
       "      <td>954.82</td>\n",
       "      <td>37659.0</td>\n",
       "      <td>Kristos</td>\n",
       "      <td>Anthony</td>\n",
       "      <td>Male</td>\n",
       "      <td>19</td>\n",
       "      <td>1955-01-11</td>\n",
       "      <td>Software Engineer I</td>\n",
       "      <td>Financial Services</td>\n",
       "      <td>Mass Customer</td>\n",
       "      <td>N</td>\n",
       "      <td>Yes</td>\n",
       "      <td>10.0</td>\n",
       "      <td>984 Hoepker Court</td>\n",
       "      <td>3064</td>\n",
       "      <td>VIC</td>\n",
       "      <td>Australia</td>\n",
       "      <td>6</td>\n",
       "    </tr>\n",
       "    <tr>\n",
       "      <th>2</th>\n",
       "      <td>18923</td>\n",
       "      <td>62</td>\n",
       "      <td>2950</td>\n",
       "      <td>2017-04-26</td>\n",
       "      <td>0.0</td>\n",
       "      <td>Approved</td>\n",
       "      <td>Solex</td>\n",
       "      <td>Standard</td>\n",
       "      <td>medium</td>\n",
       "      <td>medium</td>\n",
       "      <td>478.16</td>\n",
       "      <td>298.72</td>\n",
       "      <td>40487.0</td>\n",
       "      <td>Kristos</td>\n",
       "      <td>Anthony</td>\n",
       "      <td>Male</td>\n",
       "      <td>19</td>\n",
       "      <td>1955-01-11</td>\n",
       "      <td>Software Engineer I</td>\n",
       "      <td>Financial Services</td>\n",
       "      <td>Mass Customer</td>\n",
       "      <td>N</td>\n",
       "      <td>Yes</td>\n",
       "      <td>10.0</td>\n",
       "      <td>984 Hoepker Court</td>\n",
       "      <td>3064</td>\n",
       "      <td>VIC</td>\n",
       "      <td>Australia</td>\n",
       "      <td>6</td>\n",
       "    </tr>\n",
       "    <tr>\n",
       "      <th>3</th>\n",
       "      <td>2</td>\n",
       "      <td>3</td>\n",
       "      <td>3120</td>\n",
       "      <td>2017-05-21</td>\n",
       "      <td>1.0</td>\n",
       "      <td>Approved</td>\n",
       "      <td>Trek Bicycles</td>\n",
       "      <td>Standard</td>\n",
       "      <td>medium</td>\n",
       "      <td>large</td>\n",
       "      <td>2091.47</td>\n",
       "      <td>388.92</td>\n",
       "      <td>41701.0</td>\n",
       "      <td>Lauree</td>\n",
       "      <td>O'Donnell</td>\n",
       "      <td>Female</td>\n",
       "      <td>89</td>\n",
       "      <td>1979-02-04</td>\n",
       "      <td>Clinical Specialist</td>\n",
       "      <td>Health</td>\n",
       "      <td>Mass Customer</td>\n",
       "      <td>N</td>\n",
       "      <td>Yes</td>\n",
       "      <td>10.0</td>\n",
       "      <td>4 Shopko Circle</td>\n",
       "      <td>2196</td>\n",
       "      <td>NSW</td>\n",
       "      <td>Australia</td>\n",
       "      <td>5</td>\n",
       "    </tr>\n",
       "    <tr>\n",
       "      <th>4</th>\n",
       "      <td>6862</td>\n",
       "      <td>4</td>\n",
       "      <td>3120</td>\n",
       "      <td>2017-10-05</td>\n",
       "      <td>0.0</td>\n",
       "      <td>Approved</td>\n",
       "      <td>Giant Bicycles</td>\n",
       "      <td>Standard</td>\n",
       "      <td>high</td>\n",
       "      <td>medium</td>\n",
       "      <td>1129.13</td>\n",
       "      <td>677.48</td>\n",
       "      <td>40649.0</td>\n",
       "      <td>Lauree</td>\n",
       "      <td>O'Donnell</td>\n",
       "      <td>Female</td>\n",
       "      <td>89</td>\n",
       "      <td>1979-02-04</td>\n",
       "      <td>Clinical Specialist</td>\n",
       "      <td>Health</td>\n",
       "      <td>Mass Customer</td>\n",
       "      <td>N</td>\n",
       "      <td>Yes</td>\n",
       "      <td>10.0</td>\n",
       "      <td>4 Shopko Circle</td>\n",
       "      <td>2196</td>\n",
       "      <td>NSW</td>\n",
       "      <td>Australia</td>\n",
       "      <td>5</td>\n",
       "    </tr>\n",
       "  </tbody>\n",
       "</table>\n",
       "</div>"
      ],
      "text/plain": [
       "   transaction_id  product_id  customer_id transaction_date  online_order  \\\n",
       "0               1           2         2950       2017-02-25           0.0   \n",
       "1           11065           1         2950       2017-10-16           0.0   \n",
       "2           18923          62         2950       2017-04-26           0.0   \n",
       "3               2           3         3120       2017-05-21           1.0   \n",
       "4            6862           4         3120       2017-10-05           0.0   \n",
       "\n",
       "  order_status           brand product_line product_class product_size  \\\n",
       "0     Approved           Solex     Standard        medium       medium   \n",
       "1     Approved  Giant Bicycles     Standard        medium       medium   \n",
       "2     Approved           Solex     Standard        medium       medium   \n",
       "3     Approved   Trek Bicycles     Standard        medium        large   \n",
       "4     Approved  Giant Bicycles     Standard          high       medium   \n",
       "\n",
       "   list_price  standard_cost  product_first_sold_date first_name  last_name  \\\n",
       "0       71.49          53.62                  41245.0    Kristos    Anthony   \n",
       "1     1403.50         954.82                  37659.0    Kristos    Anthony   \n",
       "2      478.16         298.72                  40487.0    Kristos    Anthony   \n",
       "3     2091.47         388.92                  41701.0     Lauree  O'Donnell   \n",
       "4     1129.13         677.48                  40649.0     Lauree  O'Donnell   \n",
       "\n",
       "   gender  past_3_years_bike_related_purchases        DOB  \\\n",
       "0    Male                                   19 1955-01-11   \n",
       "1    Male                                   19 1955-01-11   \n",
       "2    Male                                   19 1955-01-11   \n",
       "3  Female                                   89 1979-02-04   \n",
       "4  Female                                   89 1979-02-04   \n",
       "\n",
       "             job_title job_industry_category wealth_segment  \\\n",
       "0  Software Engineer I    Financial Services  Mass Customer   \n",
       "1  Software Engineer I    Financial Services  Mass Customer   \n",
       "2  Software Engineer I    Financial Services  Mass Customer   \n",
       "3  Clinical Specialist                Health  Mass Customer   \n",
       "4  Clinical Specialist                Health  Mass Customer   \n",
       "\n",
       "  deceased_indicator owns_car  tenure            address  postcode state  \\\n",
       "0                  N      Yes    10.0  984 Hoepker Court      3064   VIC   \n",
       "1                  N      Yes    10.0  984 Hoepker Court      3064   VIC   \n",
       "2                  N      Yes    10.0  984 Hoepker Court      3064   VIC   \n",
       "3                  N      Yes    10.0    4 Shopko Circle      2196   NSW   \n",
       "4                  N      Yes    10.0    4 Shopko Circle      2196   NSW   \n",
       "\n",
       "     country  property_valuation  \n",
       "0  Australia                   6  \n",
       "1  Australia                   6  \n",
       "2  Australia                   6  \n",
       "3  Australia                   5  \n",
       "4  Australia                   5  "
      ]
     },
     "execution_count": 123,
     "metadata": {},
     "output_type": "execute_result"
    }
   ],
   "source": [
    "df.head()"
   ]
  },
  {
   "cell_type": "markdown",
   "id": "daa85945",
   "metadata": {},
   "source": [
    "### Correcting the values in the column's gender and state. Values are represented consistently"
   ]
  },
  {
   "cell_type": "code",
   "execution_count": 124,
   "id": "04481d71",
   "metadata": {},
   "outputs": [],
   "source": [
    "filt = (df[\"gender\"] == \"Femal\") | (df[\"gender\"] == \"Female\")\n",
    "df.loc[filt,\"gender\"] = \"F\"\n",
    "filt = (df[\"gender\"] == \"Male\")\n",
    "df.loc[filt,\"gender\"] = \"M\""
   ]
  },
  {
   "cell_type": "code",
   "execution_count": 125,
   "id": "9bb974d3",
   "metadata": {},
   "outputs": [],
   "source": [
    "filt = (df[\"state\"] == \"Victoria\")\n",
    "df.loc[filt,\"state\"] = \"VIC\"\n",
    "filt = (df[\"state\"] == \"New South Wales\")\n",
    "df.loc[filt,\"state\"] = \"NSW\""
   ]
  },
  {
   "cell_type": "markdown",
   "id": "f0d2eede",
   "metadata": {},
   "source": [
    "## Deriving new features"
   ]
  },
  {
   "cell_type": "code",
   "execution_count": 126,
   "id": "f5aeb3b2",
   "metadata": {},
   "outputs": [],
   "source": [
    "df['transaction_month'] = pd.DatetimeIndex(df['transaction_date']).month\n",
    "df[\"profitMargin\"] = df.apply(lambda x: x[\"list_price\"] - x[\"standard_cost\"], axis = 1)\n",
    "df['age'] = (pd.Timestamp(\"now\") - df['DOB']).astype('<m8[Y]') "
   ]
  },
  {
   "cell_type": "markdown",
   "id": "2822f7c2",
   "metadata": {},
   "source": [
    "### Removing Outliers in age, cancelled transactions"
   ]
  },
  {
   "cell_type": "code",
   "execution_count": 127,
   "id": "59d3caa1",
   "metadata": {},
   "outputs": [],
   "source": [
    "df = df[df['age'] < 100]\n",
    "df = df[df[\"order_status\"] == \"Approved\"]  # removing cancelled transactions"
   ]
  },
  {
   "cell_type": "code",
   "execution_count": 132,
   "id": "de787a50",
   "metadata": {},
   "outputs": [],
   "source": [
    "df['location'] = df[['country', \"state\", \"address\"]].agg(','.join, axis=1)\n",
    "#df[\"location\"] = df[\"country\"]+df[\"state\"]+df[\"postcode\"]+df[\"address\"]"
   ]
  },
  {
   "cell_type": "code",
   "execution_count": 134,
   "id": "bd34c7b5",
   "metadata": {},
   "outputs": [
    {
     "data": {
      "text/html": [
       "<div>\n",
       "<style scoped>\n",
       "    .dataframe tbody tr th:only-of-type {\n",
       "        vertical-align: middle;\n",
       "    }\n",
       "\n",
       "    .dataframe tbody tr th {\n",
       "        vertical-align: top;\n",
       "    }\n",
       "\n",
       "    .dataframe thead th {\n",
       "        text-align: right;\n",
       "    }\n",
       "</style>\n",
       "<table border=\"1\" class=\"dataframe\">\n",
       "  <thead>\n",
       "    <tr style=\"text-align: right;\">\n",
       "      <th></th>\n",
       "      <th>location</th>\n",
       "    </tr>\n",
       "  </thead>\n",
       "  <tbody>\n",
       "    <tr>\n",
       "      <th>0</th>\n",
       "      <td>Australia,VIC,984 Hoepker Court</td>\n",
       "    </tr>\n",
       "    <tr>\n",
       "      <th>1</th>\n",
       "      <td>Australia,VIC,984 Hoepker Court</td>\n",
       "    </tr>\n",
       "    <tr>\n",
       "      <th>2</th>\n",
       "      <td>Australia,VIC,984 Hoepker Court</td>\n",
       "    </tr>\n",
       "    <tr>\n",
       "      <th>3</th>\n",
       "      <td>Australia,NSW,4 Shopko Circle</td>\n",
       "    </tr>\n",
       "    <tr>\n",
       "      <th>4</th>\n",
       "      <td>Australia,NSW,4 Shopko Circle</td>\n",
       "    </tr>\n",
       "  </tbody>\n",
       "</table>\n",
       "</div>"
      ],
      "text/plain": [
       "                          location\n",
       "0  Australia,VIC,984 Hoepker Court\n",
       "1  Australia,VIC,984 Hoepker Court\n",
       "2  Australia,VIC,984 Hoepker Court\n",
       "3    Australia,NSW,4 Shopko Circle\n",
       "4    Australia,NSW,4 Shopko Circle"
      ]
     },
     "execution_count": 134,
     "metadata": {},
     "output_type": "execute_result"
    }
   ],
   "source": [
    "df[[\"location\"]].head()"
   ]
  },
  {
   "cell_type": "code",
   "execution_count": 135,
   "id": "c1674aa7",
   "metadata": {},
   "outputs": [],
   "source": [
    "df.to_csv(\"initialCleanedData.csv\")"
   ]
  },
  {
   "cell_type": "markdown",
   "id": "a260ddc1",
   "metadata": {},
   "source": [
    "## Quick data exploration"
   ]
  },
  {
   "cell_type": "code",
   "execution_count": 16,
   "id": "b18e1f7d",
   "metadata": {},
   "outputs": [],
   "source": [
    "import DataReporter\n",
    "%run -i DataReporter.py\n",
    "report = Report(df)"
   ]
  },
  {
   "cell_type": "code",
   "execution_count": 17,
   "id": "19490146",
   "metadata": {},
   "outputs": [
    {
     "name": "stdout",
     "output_type": "stream",
     "text": [
      " Size of the data set is (19337, 31) \n",
      "\n",
      "\n",
      "column:  transaction_id\n",
      "Number of Unique values: 19337\n",
      "min = 1, max = 20000, range = 19999\n",
      "\n",
      "column:  product_id\n",
      "Number of Unique values: 101\n",
      "min = 0, max = 100, range = 100\n",
      "\n",
      "column:  customer_id\n",
      "Number of Unique values: 3411\n",
      "min = 1, max = 3500, range = 3499\n",
      "\n",
      "column:  transaction_date\n",
      "Number of Unique values: 364\n",
      "min = 2017-01-01 00:00:00, max = 2017-12-30 00:00:00, range = 363 days 00:00:00\n",
      "\n",
      "column:  online_order\n",
      "Number of Unique values: 3\n",
      "min = 0.0, max = 1.0, range = 1.0\n",
      "List\n",
      " [ 0.  1. nan]\n",
      "\n",
      "column:  order_status\n",
      "order_status  has zero variance\n",
      "\n",
      "column:  brand\n",
      "Number of Unique values: 7\n",
      "List\n",
      " ['Solex' 'Giant Bicycles' 'Trek Bicycles' 'WeareA2B' 'OHM Cycles'\n",
      " 'Norco Bicycles' nan]\n",
      "\n",
      "column:  product_line\n",
      "Number of Unique values: 5\n",
      "List\n",
      " ['Standard' 'Road' 'Touring' 'Mountain' nan]\n",
      "\n",
      "column:  product_class\n",
      "Number of Unique values: 4\n",
      "List\n",
      " ['medium' 'high' 'low' nan]\n",
      "\n",
      "column:  product_size\n",
      "Number of Unique values: 4\n",
      "List\n",
      " ['medium' 'large' 'small' nan]\n",
      "\n",
      "column:  list_price\n",
      "Number of Unique values: 284\n",
      "min = 12.01, max = 2091.47, range = 2079.4599999999996\n",
      "\n",
      "column:  standard_cost\n",
      "Number of Unique values: 101\n",
      "min = 7.21, max = 1759.85, range = 1752.6399999999999\n",
      "\n",
      "column:  product_first_sold_date\n",
      "Number of Unique values: 101\n",
      "min = 33259.0, max = 42710.0, range = 9451.0\n",
      "\n",
      "column:  first_name\n",
      "Number of Unique values: 2776\n",
      "\n",
      "column:  last_name\n",
      "Number of Unique values: 3193\n",
      "\n",
      "column:  gender\n",
      "Number of Unique values: 2\n",
      "List\n",
      " ['M' 'F']\n",
      "\n",
      "column:  past_3_years_bike_related_purchases\n",
      "Number of Unique values: 100\n",
      "min = 0, max = 99, range = 99\n",
      "\n",
      "column:  DOB\n",
      "Number of Unique values: 3045\n",
      "min = 1931-10-23 00:00:00, max = 2002-03-11 00:00:00, range = 25707 days 00:00:00\n",
      "\n",
      "column:  job_title\n",
      "Number of Unique values: 196\n",
      "\n",
      "column:  job_industry_category\n",
      "Number of Unique values: 10\n",
      "List\n",
      " ['Financial Services' 'Health' 'Retail' 'Property' 'Manufacturing'\n",
      " 'Entertainment' 'IT' nan 'Argiculture' 'Telecommunications']\n",
      "\n",
      "column:  wealth_segment\n",
      "Number of Unique values: 3\n",
      "List\n",
      " ['Mass Customer' 'Affluent Customer' 'High Net Worth']\n",
      "\n",
      "column:  deceased_indicator\n",
      "Number of Unique values: 2\n",
      "List\n",
      " ['N' 'Y']\n",
      "\n",
      "column:  owns_car\n",
      "Number of Unique values: 2\n",
      "List\n",
      " ['Yes' 'No']\n",
      "\n",
      "column:  tenure\n",
      "Number of Unique values: 22\n",
      "min = 1.0, max = 22.0, range = 21.0\n",
      "List\n",
      " [10. 22. 16.  2. 12. 18.  6.  7.  8. 13. 19.  4.  3.  9. 15. 17.  1. 20.\n",
      " 11. 21.  5. 14.]\n",
      "\n",
      "column:  address\n",
      "Number of Unique values: 3409\n",
      "\n",
      "column:  postcode\n",
      "Number of Unique values: 829\n",
      "min = 2000, max = 4883, range = 2883\n",
      "\n",
      "column:  state\n",
      "Number of Unique values: 3\n",
      "List\n",
      " ['VIC' 'NSW' 'QLD']\n",
      "\n",
      "column:  property_valuation\n",
      "Number of Unique values: 12\n",
      "min = 1, max = 12, range = 11\n",
      "List\n",
      " [ 6  5  1 10  7  4  8  9 11  2 12  3]\n",
      "\n",
      "column:  transaction_month\n",
      "Number of Unique values: 12\n",
      "min = 1, max = 12, range = 11\n",
      "List\n",
      " [ 2 10  4  5  1 12 11  9  8  6  3  7]\n",
      "\n",
      "column:  profitMargin\n",
      "Number of Unique values: 101\n",
      "min = 4.8, max = 1702.5499999999997, range = 1697.7499999999998\n",
      "\n",
      "column:  age\n",
      "Number of Unique values: 55\n",
      "min = 19.0, max = 90.0, range = 71.0\n",
      "List\n",
      " [66. 42. 44. 59. 24. 62. 43. 35. 51. 39. 68. 40. 38. 46. 56. 64. 48. 32.\n",
      " 45. 50. 54. 60. 28. 36. 52. 41. 37. 57. 67. 23. 34. 27. 55. 53. 63. 33.\n",
      " 58. 21. 47. 26. 29. 49. 65. 61. 30. 25. 31. 22. 19. 90. 20. 81. 78. 77.\n",
      " 86.]\n"
     ]
    }
   ],
   "source": [
    "report.eda()"
   ]
  },
  {
   "cell_type": "markdown",
   "id": "008352c2",
   "metadata": {},
   "source": [
    "## missing values"
   ]
  },
  {
   "cell_type": "code",
   "execution_count": 18,
   "id": "eabfed95",
   "metadata": {},
   "outputs": [
    {
     "data": {
      "image/png": "[encoded data removed]",
      "text/plain": [
       "<Figure size 1440x576 with 1 Axes>"
      ]
     },
     "metadata": {
      "needs_background": "light"
     },
     "output_type": "display_data"
    }
   ],
   "source": [
    "#plt.style.use('fivethirtyeight')\n",
    "report.missing()"
   ]
  },
  {
   "cell_type": "markdown",
   "id": "db3228f1",
   "metadata": {},
   "source": [
    "1) The 'job_industry_category' column has about 16% of the values missing and it is better to be removed.  <br />\n",
    "<br />\n",
    "2) The missing values in many columns can be removed by just dropoing the rows containing null values. An alternative could be to reduce the missing values in a column by taking it value from other rows containing similar records. <br />\n",
    "<br />\n",
    "3) For retaining as much information as possible its first better to identify unwanted columns  remove them before droping unwanted rows. possible imputation techniques may also be explored"
   ]
  },
  {
   "cell_type": "markdown",
   "id": "383b5ea0",
   "metadata": {},
   "source": [
    "\n",
    "#### very common and useful customer segmentation methods include categorization through (\"Recency\",\"Frequency\",\"Monetory Value\") <br />\n",
    "https://towardsdatascience.com/data-driven-growth-with-python-part-2-customer-segmentation-5c019d150444   \n",
    "<br />\n",
    "Recency:  To find out about recency we need to find the number of days a customer is inactive for"
   ]
  },
  {
   "cell_type": "code",
   "execution_count": 19,
   "id": "258dc934",
   "metadata": {},
   "outputs": [],
   "source": [
    "last_transaction = df[\"transaction_date\"].max()   # most recent customer transaction\n",
    "df[\"Recency\"] = last_transaction - df[\"transaction_date\"] \n",
    "df['Recency'] = df['Recency'].dt.days.astype('int64')"
   ]
  },
  {
   "cell_type": "markdown",
   "id": "d1c87313",
   "metadata": {},
   "source": [
    "#### Recency is the number of days of customer inactivity. It is calulated with respect to the recent transaction date "
   ]
  },
  {
   "cell_type": "code",
   "execution_count": 20,
   "id": "f25cd8e9",
   "metadata": {},
   "outputs": [
    {
     "data": {
      "text/plain": [
       "61.52037525652301"
      ]
     },
     "execution_count": 20,
     "metadata": {},
     "output_type": "execute_result"
    }
   ],
   "source": [
    "df_recency = df.groupby(\"customer_id\")[[\"Recency\"]].min()\n",
    "df_recency = df_recency.reset_index()\n",
    "df_recency[\"Recency\"].describe()['mean']"
   ]
  },
  {
   "cell_type": "code",
   "execution_count": 21,
   "id": "93e4dbc6",
   "metadata": {},
   "outputs": [
    {
     "data": {
      "text/plain": [
       "<AxesSubplot:xlabel='Recency', ylabel='Count'>"
      ]
     },
     "execution_count": 21,
     "metadata": {},
     "output_type": "execute_result"
    },
    {
     "data": {
      "image/png": "[encoded data removed]",
      "text/plain": [
       "<Figure size 432x288 with 1 Axes>"
      ]
     },
     "metadata": {
      "needs_background": "light"
     },
     "output_type": "display_data"
    }
   ],
   "source": [
    "sns.histplot(data = df_recency, x = \"Recency\",binwidth = 1)"
   ]
  },
  {
   "cell_type": "markdown",
   "id": "f82b90cf",
   "metadata": {},
   "source": [
    "##### 1) The above histogram indicates most of the customers have purchased within last 100 days. <br />  <br />2) There are also customers who havent made any transaction in the past three months. On an average customers are visiting after a period of two months"
   ]
  },
  {
   "cell_type": "markdown",
   "id": "b1c48160",
   "metadata": {},
   "source": [
    "next we need to focus on customer frequency and customer total spending. To identify most valuable customers we need we need to similarly cluster them through frequency and total spending and score them according to the values. The most valuable customers are the ones with higher values in the three variables. For minimizing churn one has to identify the less recent customers who have high values of frequency or/and spending for targeting and retaining them back. Later we will model customer churn through random forest survival methods"
   ]
  },
  {
   "cell_type": "markdown",
   "id": "816a50a7",
   "metadata": {},
   "source": [
    "#### Frequency"
   ]
  },
  {
   "cell_type": "code",
   "execution_count": 22,
   "id": "22a04e9f",
   "metadata": {},
   "outputs": [
    {
     "data": {
      "text/html": [
       "<div>\n",
       "<style scoped>\n",
       "    .dataframe tbody tr th:only-of-type {\n",
       "        vertical-align: middle;\n",
       "    }\n",
       "\n",
       "    .dataframe tbody tr th {\n",
       "        vertical-align: top;\n",
       "    }\n",
       "\n",
       "    .dataframe thead th {\n",
       "        text-align: right;\n",
       "    }\n",
       "</style>\n",
       "<table border=\"1\" class=\"dataframe\">\n",
       "  <thead>\n",
       "    <tr style=\"text-align: right;\">\n",
       "      <th></th>\n",
       "      <th>customer_id</th>\n",
       "      <th>frequency</th>\n",
       "    </tr>\n",
       "  </thead>\n",
       "  <tbody>\n",
       "    <tr>\n",
       "      <th>0</th>\n",
       "      <td>1</td>\n",
       "      <td>11</td>\n",
       "    </tr>\n",
       "    <tr>\n",
       "      <th>1</th>\n",
       "      <td>2</td>\n",
       "      <td>3</td>\n",
       "    </tr>\n",
       "    <tr>\n",
       "      <th>2</th>\n",
       "      <td>4</td>\n",
       "      <td>2</td>\n",
       "    </tr>\n",
       "    <tr>\n",
       "      <th>3</th>\n",
       "      <td>5</td>\n",
       "      <td>6</td>\n",
       "    </tr>\n",
       "    <tr>\n",
       "      <th>4</th>\n",
       "      <td>6</td>\n",
       "      <td>5</td>\n",
       "    </tr>\n",
       "  </tbody>\n",
       "</table>\n",
       "</div>"
      ],
      "text/plain": [
       "   customer_id  frequency\n",
       "0            1         11\n",
       "1            2          3\n",
       "2            4          2\n",
       "3            5          6\n",
       "4            6          5"
      ]
     },
     "execution_count": 22,
     "metadata": {},
     "output_type": "execute_result"
    }
   ],
   "source": [
    "df_frequency = df.groupby(\"customer_id\")[[\"transaction_id\"]].count().reset_index()\n",
    "df_frequency.rename(columns = {\"transaction_id\" : \"frequency\"}, inplace = True)\n",
    "df_frequency.head()"
   ]
  },
  {
   "cell_type": "code",
   "execution_count": 23,
   "id": "15310f8c",
   "metadata": {},
   "outputs": [],
   "source": [
    "#df = pd.merge(df,df_frequency,on = \"customer_id\")   # biger dataset, smaller dataset, merge on left-join which is the default"
   ]
  },
  {
   "cell_type": "code",
   "execution_count": 24,
   "id": "779f386f",
   "metadata": {},
   "outputs": [
    {
     "data": {
      "text/plain": [
       "5.6690120199355025"
      ]
     },
     "execution_count": 24,
     "metadata": {},
     "output_type": "execute_result"
    },
    {
     "data": {
      "image/png": "[encoded data removed]",
      "text/plain": [
       "<Figure size 432x288 with 1 Axes>"
      ]
     },
     "metadata": {
      "needs_background": "light"
     },
     "output_type": "display_data"
    }
   ],
   "source": [
    "sns.histplot(data = df_frequency, x = \"frequency\",binwidth =1)\n",
    "df_frequency[\"frequency\"].describe()['mean']"
   ]
  },
  {
   "cell_type": "markdown",
   "id": "1424b876",
   "metadata": {},
   "source": [
    "### monetory"
   ]
  },
  {
   "cell_type": "code",
   "execution_count": 25,
   "id": "05c81662",
   "metadata": {},
   "outputs": [],
   "source": [
    "df_monetory = df.groupby(\"customer_id\")[[\"profitMargin\"]].sum().reset_index() # customers who buy products that deliver higher profits\n",
    "df_monetory.rename(columns = {\"profitMargin\" : \"TotalProfits\"}, inplace = True)"
   ]
  },
  {
   "cell_type": "code",
   "execution_count": 26,
   "id": "1dcdfdc8",
   "metadata": {},
   "outputs": [
    {
     "data": {
      "text/plain": [
       "3091.650732922896"
      ]
     },
     "execution_count": 26,
     "metadata": {},
     "output_type": "execute_result"
    },
    {
     "data": {
      "image/png": "[encoded data removed]",
      "text/plain": [
       "<Figure size 432x288 with 1 Axes>"
      ]
     },
     "metadata": {
      "needs_background": "light"
     },
     "output_type": "display_data"
    }
   ],
   "source": [
    "sns.histplot(data = df_monetory, x = \"TotalProfits\",binwidth =1)\n",
    "df_monetory[\"TotalProfits\"].describe()['mean']"
   ]
  },
  {
   "cell_type": "code",
   "execution_count": 27,
   "id": "06c29a4c",
   "metadata": {},
   "outputs": [
    {
     "name": "stdout",
     "output_type": "stream",
     "text": [
      "(3411, 2)\n",
      "(3411, 2)\n",
      "(3411, 2)\n"
     ]
    }
   ],
   "source": [
    "print(df_monetory.shape)\n",
    "print(df_frequency.shape)\n",
    "print(df_recency.shape)"
   ]
  },
  {
   "cell_type": "code",
   "execution_count": 28,
   "id": "63d160e2",
   "metadata": {},
   "outputs": [
    {
     "data": {
      "text/html": [
       "<div>\n",
       "<style scoped>\n",
       "    .dataframe tbody tr th:only-of-type {\n",
       "        vertical-align: middle;\n",
       "    }\n",
       "\n",
       "    .dataframe tbody tr th {\n",
       "        vertical-align: top;\n",
       "    }\n",
       "\n",
       "    .dataframe thead th {\n",
       "        text-align: right;\n",
       "    }\n",
       "</style>\n",
       "<table border=\"1\" class=\"dataframe\">\n",
       "  <thead>\n",
       "    <tr style=\"text-align: right;\">\n",
       "      <th></th>\n",
       "      <th>customer_id</th>\n",
       "      <th>Recency</th>\n",
       "      <th>frequency</th>\n",
       "      <th>TotalProfits</th>\n",
       "    </tr>\n",
       "  </thead>\n",
       "  <tbody>\n",
       "    <tr>\n",
       "      <th>0</th>\n",
       "      <td>1</td>\n",
       "      <td>7</td>\n",
       "      <td>11</td>\n",
       "      <td>3018.09</td>\n",
       "    </tr>\n",
       "    <tr>\n",
       "      <th>1</th>\n",
       "      <td>2</td>\n",
       "      <td>128</td>\n",
       "      <td>3</td>\n",
       "      <td>2226.26</td>\n",
       "    </tr>\n",
       "    <tr>\n",
       "      <th>2</th>\n",
       "      <td>4</td>\n",
       "      <td>195</td>\n",
       "      <td>2</td>\n",
       "      <td>220.57</td>\n",
       "    </tr>\n",
       "    <tr>\n",
       "      <th>3</th>\n",
       "      <td>5</td>\n",
       "      <td>16</td>\n",
       "      <td>6</td>\n",
       "      <td>2394.94</td>\n",
       "    </tr>\n",
       "    <tr>\n",
       "      <th>4</th>\n",
       "      <td>6</td>\n",
       "      <td>64</td>\n",
       "      <td>5</td>\n",
       "      <td>3946.55</td>\n",
       "    </tr>\n",
       "  </tbody>\n",
       "</table>\n",
       "</div>"
      ],
      "text/plain": [
       "   customer_id  Recency  frequency  TotalProfits\n",
       "0            1        7         11       3018.09\n",
       "1            2      128          3       2226.26\n",
       "2            4      195          2        220.57\n",
       "3            5       16          6       2394.94\n",
       "4            6       64          5       3946.55"
      ]
     },
     "execution_count": 28,
     "metadata": {},
     "output_type": "execute_result"
    }
   ],
   "source": [
    "df_rfm = pd.merge(df_recency[[\"customer_id\",\"Recency\"]],df_frequency[[\"customer_id\",\"frequency\"]], on =\"customer_id\")\n",
    "df_rfm = pd.merge(df_rfm,df_monetory[[\"customer_id\",\"TotalProfits\"]])\n",
    "df_rfm.head()"
   ]
  },
  {
   "cell_type": "code",
   "execution_count": 29,
   "id": "20486b8f",
   "metadata": {},
   "outputs": [],
   "source": [
    "# Normalization\n",
    "# def func(x):\n",
    "#     return x/x.max()\n",
    "\n",
    "# df_rfm[[\"Recency\",\"frequency\",\"TotalProfits\"]] = df_rfm[[\"Recency\",\"frequency\",\"TotalProfits\"]].apply(func,axis = 0)"
   ]
  },
  {
   "cell_type": "code",
   "execution_count": null,
   "id": "1ee7e7b3",
   "metadata": {},
   "outputs": [],
   "source": [
    "# wcss = {}\n",
    "# for k in range(2,20):\n",
    "#     model = KMeans(n_clusters = k, init = \"k-means++\", n_init = 10, max_iter = 500)\n",
    "#     pipe = Pipeline(steps = [(\"k_means\", model)])\n",
    "#     km = pipe.fit(df_rfm.drop(axis=1, columns=[\"customer_id\"]))\n",
    "#     wcss[k] = km[\"k_means\"].inertia_\n",
    "# wcssDF = pd.DataFrame.from_dict(wcss, orient = \"index\")\n",
    "# wcssDF.plot()"
   ]
  },
  {
   "cell_type": "code",
   "execution_count": 30,
   "id": "efb1b4f3",
   "metadata": {},
   "outputs": [
    {
     "name": "stdout",
     "output_type": "stream",
     "text": [
      "Enter k: 2\n"
     ]
    }
   ],
   "source": [
    "k=int(input(\"Enter k: \"))\n",
    "model = KMeans(n_clusters = k, init = \"k-means++\", n_init = 10, max_iter = 8000, random_state = 111)\n",
    "pipe = Pipeline(steps = [(\"k_means\",model)])\n",
    "km = pipe.fit(df_rfm.drop(axis=1, columns=[\"customer_id\"]))\n",
    "centroids = km[\"k_means\"].cluster_centers_\n",
    "df_rfm[\"clusters\"] = km.predict(df_rfm[[\"Recency\",\"frequency\",\"TotalProfits\"]])"
   ]
  },
  {
   "cell_type": "code",
   "execution_count": 31,
   "id": "c4629a34",
   "metadata": {},
   "outputs": [],
   "source": [
    "# labels = km[\"k_means\"].labels_\n",
    "# df_rfm[\"labels\"] = labels "
   ]
  },
  {
   "cell_type": "code",
   "execution_count": 32,
   "id": "ae062fde",
   "metadata": {},
   "outputs": [
    {
     "data": {
      "text/html": [
       "<div>\n",
       "<style scoped>\n",
       "    .dataframe tbody tr th:only-of-type {\n",
       "        vertical-align: middle;\n",
       "    }\n",
       "\n",
       "    .dataframe tbody tr th {\n",
       "        vertical-align: top;\n",
       "    }\n",
       "\n",
       "    .dataframe thead th {\n",
       "        text-align: right;\n",
       "    }\n",
       "</style>\n",
       "<table border=\"1\" class=\"dataframe\">\n",
       "  <thead>\n",
       "    <tr style=\"text-align: right;\">\n",
       "      <th></th>\n",
       "      <th>customer_id</th>\n",
       "      <th>Recency</th>\n",
       "      <th>frequency</th>\n",
       "      <th>TotalProfits</th>\n",
       "      <th>clusters</th>\n",
       "    </tr>\n",
       "  </thead>\n",
       "  <tbody>\n",
       "    <tr>\n",
       "      <th>0</th>\n",
       "      <td>1</td>\n",
       "      <td>7</td>\n",
       "      <td>11</td>\n",
       "      <td>3018.09</td>\n",
       "      <td>1</td>\n",
       "    </tr>\n",
       "    <tr>\n",
       "      <th>1</th>\n",
       "      <td>2</td>\n",
       "      <td>128</td>\n",
       "      <td>3</td>\n",
       "      <td>2226.26</td>\n",
       "      <td>1</td>\n",
       "    </tr>\n",
       "    <tr>\n",
       "      <th>2</th>\n",
       "      <td>4</td>\n",
       "      <td>195</td>\n",
       "      <td>2</td>\n",
       "      <td>220.57</td>\n",
       "      <td>1</td>\n",
       "    </tr>\n",
       "    <tr>\n",
       "      <th>3</th>\n",
       "      <td>5</td>\n",
       "      <td>16</td>\n",
       "      <td>6</td>\n",
       "      <td>2394.94</td>\n",
       "      <td>1</td>\n",
       "    </tr>\n",
       "    <tr>\n",
       "      <th>4</th>\n",
       "      <td>6</td>\n",
       "      <td>64</td>\n",
       "      <td>5</td>\n",
       "      <td>3946.55</td>\n",
       "      <td>0</td>\n",
       "    </tr>\n",
       "  </tbody>\n",
       "</table>\n",
       "</div>"
      ],
      "text/plain": [
       "   customer_id  Recency  frequency  TotalProfits  clusters\n",
       "0            1        7         11       3018.09         1\n",
       "1            2      128          3       2226.26         1\n",
       "2            4      195          2        220.57         1\n",
       "3            5       16          6       2394.94         1\n",
       "4            6       64          5       3946.55         0"
      ]
     },
     "execution_count": 32,
     "metadata": {},
     "output_type": "execute_result"
    }
   ],
   "source": [
    "df_rfm.head()"
   ]
  },
  {
   "cell_type": "code",
   "execution_count": 33,
   "id": "5ebf5bb3",
   "metadata": {},
   "outputs": [
    {
     "data": {
      "text/html": [
       "<div>\n",
       "<style scoped>\n",
       "    .dataframe tbody tr th:only-of-type {\n",
       "        vertical-align: middle;\n",
       "    }\n",
       "\n",
       "    .dataframe tbody tr th {\n",
       "        vertical-align: top;\n",
       "    }\n",
       "\n",
       "    .dataframe thead th {\n",
       "        text-align: right;\n",
       "    }\n",
       "</style>\n",
       "<table border=\"1\" class=\"dataframe\">\n",
       "  <thead>\n",
       "    <tr style=\"text-align: right;\">\n",
       "      <th></th>\n",
       "      <th>customer_id</th>\n",
       "      <th>Recency</th>\n",
       "      <th>frequency</th>\n",
       "      <th>TotalProfits</th>\n",
       "    </tr>\n",
       "    <tr>\n",
       "      <th>clusters</th>\n",
       "      <th></th>\n",
       "      <th></th>\n",
       "      <th></th>\n",
       "      <th></th>\n",
       "    </tr>\n",
       "  </thead>\n",
       "  <tbody>\n",
       "    <tr>\n",
       "      <th>0</th>\n",
       "      <td>1743.394215</td>\n",
       "      <td>45.288430</td>\n",
       "      <td>7.447107</td>\n",
       "      <td>5001.223430</td>\n",
       "    </tr>\n",
       "    <tr>\n",
       "      <th>1</th>\n",
       "      <td>1756.086324</td>\n",
       "      <td>70.443889</td>\n",
       "      <td>4.691504</td>\n",
       "      <td>2041.862926</td>\n",
       "    </tr>\n",
       "  </tbody>\n",
       "</table>\n",
       "</div>"
      ],
      "text/plain": [
       "          customer_id    Recency  frequency  TotalProfits\n",
       "clusters                                                 \n",
       "0         1743.394215  45.288430   7.447107   5001.223430\n",
       "1         1756.086324  70.443889   4.691504   2041.862926"
      ]
     },
     "execution_count": 33,
     "metadata": {},
     "output_type": "execute_result"
    }
   ],
   "source": [
    "df_rfm.groupby(\"clusters\").mean()\n",
    "#grp.describe()\n",
    "#grp.iloc[:, grp.columns.get_level_values(0)=='Recency']#.reset_index()"
   ]
  },
  {
   "cell_type": "code",
   "execution_count": 34,
   "id": "4935674d",
   "metadata": {},
   "outputs": [
    {
     "data": {
      "text/html": [
       "<div>\n",
       "<style scoped>\n",
       "    .dataframe tbody tr th:only-of-type {\n",
       "        vertical-align: middle;\n",
       "    }\n",
       "\n",
       "    .dataframe tbody tr th {\n",
       "        vertical-align: top;\n",
       "    }\n",
       "\n",
       "    .dataframe thead tr th {\n",
       "        text-align: left;\n",
       "    }\n",
       "\n",
       "    .dataframe thead tr:last-of-type th {\n",
       "        text-align: right;\n",
       "    }\n",
       "</style>\n",
       "<table border=\"1\" class=\"dataframe\">\n",
       "  <thead>\n",
       "    <tr>\n",
       "      <th></th>\n",
       "      <th colspan=\"8\" halign=\"left\">customer_id</th>\n",
       "      <th colspan=\"8\" halign=\"left\">Recency</th>\n",
       "      <th colspan=\"8\" halign=\"left\">frequency</th>\n",
       "      <th colspan=\"8\" halign=\"left\">TotalProfits</th>\n",
       "    </tr>\n",
       "    <tr>\n",
       "      <th></th>\n",
       "      <th>count</th>\n",
       "      <th>mean</th>\n",
       "      <th>std</th>\n",
       "      <th>min</th>\n",
       "      <th>25%</th>\n",
       "      <th>50%</th>\n",
       "      <th>75%</th>\n",
       "      <th>max</th>\n",
       "      <th>count</th>\n",
       "      <th>mean</th>\n",
       "      <th>std</th>\n",
       "      <th>min</th>\n",
       "      <th>25%</th>\n",
       "      <th>50%</th>\n",
       "      <th>75%</th>\n",
       "      <th>max</th>\n",
       "      <th>count</th>\n",
       "      <th>mean</th>\n",
       "      <th>std</th>\n",
       "      <th>min</th>\n",
       "      <th>25%</th>\n",
       "      <th>50%</th>\n",
       "      <th>75%</th>\n",
       "      <th>max</th>\n",
       "      <th>count</th>\n",
       "      <th>mean</th>\n",
       "      <th>std</th>\n",
       "      <th>min</th>\n",
       "      <th>25%</th>\n",
       "      <th>50%</th>\n",
       "      <th>75%</th>\n",
       "      <th>max</th>\n",
       "    </tr>\n",
       "    <tr>\n",
       "      <th>clusters</th>\n",
       "      <th></th>\n",
       "      <th></th>\n",
       "      <th></th>\n",
       "      <th></th>\n",
       "      <th></th>\n",
       "      <th></th>\n",
       "      <th></th>\n",
       "      <th></th>\n",
       "      <th></th>\n",
       "      <th></th>\n",
       "      <th></th>\n",
       "      <th></th>\n",
       "      <th></th>\n",
       "      <th></th>\n",
       "      <th></th>\n",
       "      <th></th>\n",
       "      <th></th>\n",
       "      <th></th>\n",
       "      <th></th>\n",
       "      <th></th>\n",
       "      <th></th>\n",
       "      <th></th>\n",
       "      <th></th>\n",
       "      <th></th>\n",
       "      <th></th>\n",
       "      <th></th>\n",
       "      <th></th>\n",
       "      <th></th>\n",
       "      <th></th>\n",
       "      <th></th>\n",
       "      <th></th>\n",
       "      <th></th>\n",
       "    </tr>\n",
       "  </thead>\n",
       "  <tbody>\n",
       "    <tr>\n",
       "      <th>0</th>\n",
       "      <td>1210.0</td>\n",
       "      <td>1743.394215</td>\n",
       "      <td>1007.542101</td>\n",
       "      <td>6.0</td>\n",
       "      <td>875.5</td>\n",
       "      <td>1781.0</td>\n",
       "      <td>2604.5</td>\n",
       "      <td>3499.0</td>\n",
       "      <td>1210.0</td>\n",
       "      <td>45.288430</td>\n",
       "      <td>40.799337</td>\n",
       "      <td>0.0</td>\n",
       "      <td>14.0</td>\n",
       "      <td>34.0</td>\n",
       "      <td>64.0</td>\n",
       "      <td>293.0</td>\n",
       "      <td>1210.0</td>\n",
       "      <td>7.447107</td>\n",
       "      <td>1.998162</td>\n",
       "      <td>3.0</td>\n",
       "      <td>6.0</td>\n",
       "      <td>7.0</td>\n",
       "      <td>9.0</td>\n",
       "      <td>14.0</td>\n",
       "      <td>1210.0</td>\n",
       "      <td>5001.223430</td>\n",
       "      <td>1283.022338</td>\n",
       "      <td>3519.22</td>\n",
       "      <td>4042.015</td>\n",
       "      <td>4689.49</td>\n",
       "      <td>5591.0325</td>\n",
       "      <td>11668.95</td>\n",
       "    </tr>\n",
       "    <tr>\n",
       "      <th>1</th>\n",
       "      <td>2201.0</td>\n",
       "      <td>1756.086324</td>\n",
       "      <td>1010.113007</td>\n",
       "      <td>1.0</td>\n",
       "      <td>880.0</td>\n",
       "      <td>1741.0</td>\n",
       "      <td>2643.0</td>\n",
       "      <td>3500.0</td>\n",
       "      <td>2201.0</td>\n",
       "      <td>70.443889</td>\n",
       "      <td>64.027002</td>\n",
       "      <td>0.0</td>\n",
       "      <td>21.0</td>\n",
       "      <td>52.0</td>\n",
       "      <td>99.0</td>\n",
       "      <td>353.0</td>\n",
       "      <td>2201.0</td>\n",
       "      <td>4.691504</td>\n",
       "      <td>1.839655</td>\n",
       "      <td>1.0</td>\n",
       "      <td>3.0</td>\n",
       "      <td>5.0</td>\n",
       "      <td>6.0</td>\n",
       "      <td>13.0</td>\n",
       "      <td>2201.0</td>\n",
       "      <td>2041.862926</td>\n",
       "      <td>901.068053</td>\n",
       "      <td>15.08</td>\n",
       "      <td>1368.370</td>\n",
       "      <td>2137.18</td>\n",
       "      <td>2757.7700</td>\n",
       "      <td>3516.78</td>\n",
       "    </tr>\n",
       "  </tbody>\n",
       "</table>\n",
       "</div>"
      ],
      "text/plain": [
       "         customer_id                                                        \\\n",
       "               count         mean          std  min    25%     50%     75%   \n",
       "clusters                                                                     \n",
       "0             1210.0  1743.394215  1007.542101  6.0  875.5  1781.0  2604.5   \n",
       "1             2201.0  1756.086324  1010.113007  1.0  880.0  1741.0  2643.0   \n",
       "\n",
       "                 Recency                                                      \\\n",
       "             max   count       mean        std  min   25%   50%   75%    max   \n",
       "clusters                                                                       \n",
       "0         3499.0  1210.0  45.288430  40.799337  0.0  14.0  34.0  64.0  293.0   \n",
       "1         3500.0  2201.0  70.443889  64.027002  0.0  21.0  52.0  99.0  353.0   \n",
       "\n",
       "         frequency                                               TotalProfits  \\\n",
       "             count      mean       std  min  25%  50%  75%   max        count   \n",
       "clusters                                                                        \n",
       "0           1210.0  7.447107  1.998162  3.0  6.0  7.0  9.0  14.0       1210.0   \n",
       "1           2201.0  4.691504  1.839655  1.0  3.0  5.0  6.0  13.0       2201.0   \n",
       "\n",
       "                                                                           \\\n",
       "                 mean          std      min       25%      50%        75%   \n",
       "clusters                                                                    \n",
       "0         5001.223430  1283.022338  3519.22  4042.015  4689.49  5591.0325   \n",
       "1         2041.862926   901.068053    15.08  1368.370  2137.18  2757.7700   \n",
       "\n",
       "                    \n",
       "               max  \n",
       "clusters            \n",
       "0         11668.95  \n",
       "1          3516.78  "
      ]
     },
     "execution_count": 34,
     "metadata": {},
     "output_type": "execute_result"
    }
   ],
   "source": [
    "df_rfm.groupby(\"clusters\").describe()"
   ]
  },
  {
   "cell_type": "markdown",
   "id": "11a85b4c",
   "metadata": {},
   "source": [
    "### visualizing the cluster in 2D"
   ]
  },
  {
   "cell_type": "code",
   "execution_count": 35,
   "id": "23e45c59",
   "metadata": {},
   "outputs": [
    {
     "data": {
      "text/plain": [
       "<AxesSubplot:xlabel='Recency', ylabel='TotalProfits'>"
      ]
     },
     "execution_count": 35,
     "metadata": {},
     "output_type": "execute_result"
    },
    {
     "data": {
      "image/png": "[encoded data removed]",
      "text/plain": [
       "<Figure size 432x288 with 1 Axes>"
      ]
     },
     "metadata": {
      "needs_background": "light"
     },
     "output_type": "display_data"
    }
   ],
   "source": [
    "sns.scatterplot(data=df_rfm, x=\"Recency\",y=\"TotalProfits\", hue = \"clusters\")"
   ]
  },
  {
   "cell_type": "code",
   "execution_count": 36,
   "id": "704f2213",
   "metadata": {},
   "outputs": [],
   "source": [
    "### cluster 2 are most resent and can deliver higher profits"
   ]
  },
  {
   "cell_type": "code",
   "execution_count": 37,
   "id": "baa2b040",
   "metadata": {},
   "outputs": [
    {
     "data": {
      "text/plain": [
       "<AxesSubplot:xlabel='frequency', ylabel='TotalProfits'>"
      ]
     },
     "execution_count": 37,
     "metadata": {},
     "output_type": "execute_result"
    },
    {
     "data": {
      "image/png": "[encoded data removed]",
      "text/plain": [
       "<Figure size 432x288 with 1 Axes>"
      ]
     },
     "metadata": {
      "needs_background": "light"
     },
     "output_type": "display_data"
    }
   ],
   "source": [
    "sns.scatterplot(data=df_rfm, x=\"frequency\",y=\"TotalProfits\", hue = \"clusters\")"
   ]
  },
  {
   "cell_type": "code",
   "execution_count": 38,
   "id": "7deab68a",
   "metadata": {},
   "outputs": [
    {
     "data": {
      "text/plain": [
       "<AxesSubplot:xlabel='frequency', ylabel='Recency'>"
      ]
     },
     "execution_count": 38,
     "metadata": {},
     "output_type": "execute_result"
    },
    {
     "data": {
      "image/png": "[encoded data removed]",
      "text/plain": [
       "<Figure size 432x288 with 1 Axes>"
      ]
     },
     "metadata": {
      "needs_background": "light"
     },
     "output_type": "display_data"
    }
   ],
   "source": [
    "sns.scatterplot(data=df_rfm, x=\"frequency\",y=\"Recency\", hue = \"clusters\")"
   ]
  },
  {
   "cell_type": "code",
   "execution_count": 39,
   "id": "492a4336",
   "metadata": {},
   "outputs": [
    {
     "data": {
      "text/plain": [
       "<matplotlib.legend.Legend at 0x17688562400>"
      ]
     },
     "execution_count": 39,
     "metadata": {},
     "output_type": "execute_result"
    },
    {
     "data": {
      "image/png": "[encoded data removed]",
      "text/plain": [
       "<Figure size 576x576 with 1 Axes>"
      ]
     },
     "metadata": {
      "needs_background": "light"
     },
     "output_type": "display_data"
    }
   ],
   "source": [
    "from matplotlib import cm\n",
    "fig = plt.figure(figsize=(8,8))\n",
    "ax = fig.add_subplot(111, projection='3d')\n",
    "\n",
    "for cluster in df_rfm[\"clusters\"].unique():\n",
    "    ax.scatter(df_rfm.Recency[df_rfm.clusters==cluster],df_rfm.frequency[df_rfm.clusters==cluster],df_rfm.TotalProfits[df_rfm.clusters==cluster],label=cluster)\n",
    "\n",
    "ax.set_xlabel('Recency')\n",
    "ax.set_ylabel('frequency')\n",
    "ax.set_zlabel('TotalProfits')    \n",
    "ax.legend()"
   ]
  },
  {
   "cell_type": "markdown",
   "id": "9b0b913b",
   "metadata": {},
   "source": [
    "#### From the above three plots we can see that clients belonging to cluster 2 are high valued clients as they are more recent, frequent and purchace the products that deliver more profits. \n",
    "\n",
    "#### cluster3(shown black) are very recent but not frequent. This coluld be because they are new customers or the old ones that are at the risk of churn. In any case efforts should be put "
   ]
  },
  {
   "cell_type": "code",
   "execution_count": 40,
   "id": "2634ae76",
   "metadata": {},
   "outputs": [
    {
     "name": "stdout",
     "output_type": "stream",
     "text": [
      "enter best cluster from the above figure 0\n",
      "enter best cluster from the above figure 1\n"
     ]
    }
   ],
   "source": [
    "HighValued = input(\"enter best cluster from the above figure \")\n",
    "LowValued = input(\"enter best cluster from the above figure \")\n",
    "\n",
    "HighValuedCustomers = df_rfm[df_rfm[\"clusters\"] == HighValued]  # more recent, frequent and profitable\n",
    "LowValuedCustomers  = df_rfm[df_rfm[\"clusters\"] == HighValued]"
   ]
  },
  {
   "cell_type": "code",
   "execution_count": 41,
   "id": "a0193562",
   "metadata": {},
   "outputs": [
    {
     "data": {
      "text/plain": [
       "Index(['transaction_id', 'product_id', 'customer_id', 'transaction_date',\n",
       "       'online_order', 'order_status', 'brand', 'product_line',\n",
       "       'product_class', 'product_size', 'list_price', 'standard_cost',\n",
       "       'product_first_sold_date', 'first_name', 'last_name', 'gender',\n",
       "       'past_3_years_bike_related_purchases', 'DOB', 'job_title',\n",
       "       'job_industry_category', 'wealth_segment', 'deceased_indicator',\n",
       "       'owns_car', 'tenure', 'address', 'postcode', 'state',\n",
       "       'property_valuation', 'transaction_month', 'profitMargin', 'age',\n",
       "       'Recency_x', 'Recency_y', 'frequency', 'TotalProfits', 'clusters'],\n",
       "      dtype='object')"
      ]
     },
     "execution_count": 41,
     "metadata": {},
     "output_type": "execute_result"
    }
   ],
   "source": [
    "df_final = pd.merge(df, df_rfm, on = \"customer_id\")\n",
    "df_final.columns"
   ]
  },
  {
   "cell_type": "code",
   "execution_count": 42,
   "id": "1c5b7732",
   "metadata": {},
   "outputs": [
    {
     "data": {
      "text/plain": [
       "Index(['transaction_id', 'product_id', 'customer_id', 'transaction_date',\n",
       "       'online_order', 'order_status', 'brand', 'product_line',\n",
       "       'product_class', 'product_size', 'list_price', 'standard_cost',\n",
       "       'product_first_sold_date', 'first_name', 'last_name', 'gender',\n",
       "       'past_3_years_bike_related_purchases', 'DOB', 'job_title',\n",
       "       'job_industry_category', 'wealth_segment', 'deceased_indicator',\n",
       "       'owns_car', 'tenure', 'address', 'postcode', 'state',\n",
       "       'property_valuation', 'transaction_month', 'profitMargin', 'age',\n",
       "       'Recency_x', 'Recency_y', 'frequency', 'TotalProfits', 'clusters'],\n",
       "      dtype='object')"
      ]
     },
     "execution_count": 42,
     "metadata": {},
     "output_type": "execute_result"
    }
   ],
   "source": [
    "df_final2 = df_final.copy()\n",
    "df_final2.columns"
   ]
  },
  {
   "cell_type": "code",
   "execution_count": 115,
   "id": "70640f86",
   "metadata": {},
   "outputs": [
    {
     "data": {
      "text/html": [
       "<div>\n",
       "<style scoped>\n",
       "    .dataframe tbody tr th:only-of-type {\n",
       "        vertical-align: middle;\n",
       "    }\n",
       "\n",
       "    .dataframe tbody tr th {\n",
       "        vertical-align: top;\n",
       "    }\n",
       "\n",
       "    .dataframe thead th {\n",
       "        text-align: right;\n",
       "    }\n",
       "</style>\n",
       "<table border=\"1\" class=\"dataframe\">\n",
       "  <thead>\n",
       "    <tr style=\"text-align: right;\">\n",
       "      <th></th>\n",
       "      <th>gender</th>\n",
       "      <th>past_3_years_bike_related_purchases</th>\n",
       "      <th>job_title</th>\n",
       "      <th>job_industry_category</th>\n",
       "      <th>wealth_segment</th>\n",
       "      <th>owns_car</th>\n",
       "      <th>tenure</th>\n",
       "      <th>postcode</th>\n",
       "      <th>state</th>\n",
       "      <th>property_valuation</th>\n",
       "      <th>clusters</th>\n",
       "      <th>age</th>\n",
       "    </tr>\n",
       "  </thead>\n",
       "  <tbody>\n",
       "  </tbody>\n",
       "</table>\n",
       "</div>"
      ],
      "text/plain": [
       "Empty DataFrame\n",
       "Columns: [gender, past_3_years_bike_related_purchases, job_title, job_industry_category, wealth_segment, owns_car, tenure, postcode, state, property_valuation, clusters, age]\n",
       "Index: []"
      ]
     },
     "execution_count": 115,
     "metadata": {},
     "output_type": "execute_result"
    }
   ],
   "source": [
    "df_final2.head(0)"
   ]
  },
  {
   "cell_type": "code",
   "execution_count": 136,
   "id": "2ce87739",
   "metadata": {},
   "outputs": [],
   "source": [
    "df_final.to_csv(\"final.csv\")"
   ]
  },
  {
   "cell_type": "code",
   "execution_count": null,
   "id": "932a2517",
   "metadata": {},
   "outputs": [],
   "source": []
  },
  {
   "cell_type": "code",
   "execution_count": null,
   "id": "ac66f827",
   "metadata": {},
   "outputs": [],
   "source": []
  },
  {
   "cell_type": "code",
   "execution_count": null,
   "id": "5cd60a24",
   "metadata": {},
   "outputs": [],
   "source": []
  },
  {
   "cell_type": "code",
   "execution_count": null,
   "id": "0e28c8d7",
   "metadata": {},
   "outputs": [],
   "source": []
  },
  {
   "cell_type": "code",
   "execution_count": null,
   "id": "96b27f5f",
   "metadata": {},
   "outputs": [],
   "source": []
  },
  {
   "cell_type": "code",
   "execution_count": null,
   "id": "94cb8301",
   "metadata": {},
   "outputs": [],
   "source": []
  },
  {
   "cell_type": "code",
   "execution_count": null,
   "id": "01e58b9f",
   "metadata": {},
   "outputs": [],
   "source": []
  },
  {
   "cell_type": "code",
   "execution_count": null,
   "id": "916451f1",
   "metadata": {},
   "outputs": [],
   "source": []
  },
  {
   "cell_type": "code",
   "execution_count": null,
   "id": "19c8495c",
   "metadata": {},
   "outputs": [],
   "source": []
  },
  {
   "cell_type": "code",
   "execution_count": null,
   "id": "e3ffa54e",
   "metadata": {},
   "outputs": [],
   "source": []
  },
  {
   "cell_type": "code",
   "execution_count": 43,
   "id": "9a488a88",
   "metadata": {},
   "outputs": [],
   "source": [
    "# columns = ['gender','past_3_years_bike_related_purchases', 'DOB', 'job_title',\n",
    "#        'job_industry_category', 'wealth_segment', 'deceased_indicator',\n",
    "#        'owns_car', 'tenure', 'postcode', 'state', \n",
    "#        'property_valuation']"
   ]
  },
  {
   "cell_type": "code",
   "execution_count": 92,
   "id": "ad028ff3",
   "metadata": {},
   "outputs": [],
   "source": [
    "# %matplotlib inline\n",
    "# cluster1 = df_final2[df_final2[\"clusters\"] == 1]\n",
    "# cluster3 = df_final2[df_final2[\"clusters\"] == 3]\n",
    "# fig, ax = plt.subplots(nrows=1, ncols=2)\n",
    "# column = \"state\"\n",
    "# ax[0].plot(cluster1[column].value_counts())\n",
    "# ax[1].plot(cluster3[column].value_counts())\n",
    "# cluster1.head(0)"
   ]
  },
  {
   "cell_type": "code",
   "execution_count": 93,
   "id": "1a18be8c",
   "metadata": {},
   "outputs": [],
   "source": [
    "#newCustomers = newCustomers.drop(columns = [\"country\"], axis = 1)"
   ]
  },
  {
   "cell_type": "code",
   "execution_count": 94,
   "id": "70ec8d8d",
   "metadata": {},
   "outputs": [],
   "source": [
    "# df_final2 = df_final2[columns+[\"profitMargin\",\"clusters\"]]"
   ]
  },
  {
   "cell_type": "code",
   "execution_count": 95,
   "id": "0d0013f7",
   "metadata": {},
   "outputs": [],
   "source": [
    "# df_final2 = df_final2.dropna()     # This part may be improved later by exploring other data imputation"
   ]
  },
  {
   "cell_type": "code",
   "execution_count": 96,
   "id": "5ce9e550",
   "metadata": {},
   "outputs": [],
   "source": [
    "# df_final2['age'] = (pd.Timestamp(\"now\") - df_final2['DOB']).astype('<m8[Y]') \n",
    "# df_final2 = df_final2.drop(columns = [\"DOB\",\"deceased_indicator\"],axis = 1)"
   ]
  },
  {
   "cell_type": "code",
   "execution_count": 97,
   "id": "fe99140c",
   "metadata": {},
   "outputs": [],
   "source": [
    "# sns.histplot(x= df_final2[\"profitMargin\"])\n",
    "# df_final2.shape"
   ]
  },
  {
   "cell_type": "code",
   "execution_count": 98,
   "id": "03018e1c",
   "metadata": {},
   "outputs": [],
   "source": [
    "# df_final2 = df_final2.drop(columns = [\"profitMargin\"],axis = 1)"
   ]
  },
  {
   "cell_type": "code",
   "execution_count": 99,
   "id": "ba32b9a0",
   "metadata": {},
   "outputs": [],
   "source": [
    "# duplicate = df_final2[df_final2.duplicated()]\n",
    "# duplicate.shape # There are many duplicate rows which shall be removed as they add no new information for training"
   ]
  },
  {
   "cell_type": "code",
   "execution_count": 100,
   "id": "86409f75",
   "metadata": {},
   "outputs": [],
   "source": [
    "# df_final2.shape"
   ]
  },
  {
   "cell_type": "code",
   "execution_count": 101,
   "id": "02c94c01",
   "metadata": {},
   "outputs": [],
   "source": [
    "# df_final3 = df_final2.drop_duplicates()\n",
    "# df_final3.shape"
   ]
  },
  {
   "cell_type": "code",
   "execution_count": 102,
   "id": "dddc25f5",
   "metadata": {},
   "outputs": [],
   "source": [
    "# df_final3 = df_final3.drop(axis = 1, columns = [\"job_title\"])"
   ]
  },
  {
   "cell_type": "code",
   "execution_count": 55,
   "id": "59723ba8",
   "metadata": {},
   "outputs": [],
   "source": [
    "# from sklearn.linear_model import LogisticRegression\n",
    "# from sklearn.preprocessing import MinMaxScaler,OneHotEncoder\n",
    "# from sklearn.compose import ColumnTransformer\n",
    "# from sklearn.model_selection import train_test_split\n",
    "# from sklearn.pipeline import Pipeline\n",
    "# from sklearn.model_selection import KFold, StratifiedKFold, GridSearchCV, cross_val_score"
   ]
  },
  {
   "cell_type": "code",
   "execution_count": 103,
   "id": "d0f3052c",
   "metadata": {},
   "outputs": [],
   "source": [
    "# columns = df_final3.columns\n",
    "# cat = df_final3.select_dtypes(include = [\"object\"]).columns\n",
    "# num = df_final3.select_dtypes(include = [\"int64\",\"float64\"]).columns"
   ]
  },
  {
   "cell_type": "code",
   "execution_count": 104,
   "id": "fdab42e0",
   "metadata": {},
   "outputs": [],
   "source": [
    "# df_final3.describe()"
   ]
  },
  {
   "cell_type": "code",
   "execution_count": 105,
   "id": "070c3a30",
   "metadata": {},
   "outputs": [],
   "source": [
    "# df_final3[\"clusters\"].value_counts().plot(kind = \"bar\") # class imbalance"
   ]
  },
  {
   "cell_type": "code",
   "execution_count": 59,
   "id": "6696e914",
   "metadata": {},
   "outputs": [],
   "source": [
    "# corr = df_final3[columns].corr\n",
    "# sns.heatmap(corr)"
   ]
  },
  {
   "cell_type": "code",
   "execution_count": 106,
   "id": "bbab857a",
   "metadata": {},
   "outputs": [],
   "source": [
    "# X = df_final3.drop([\"clusters\"],axis=1)\n",
    "# y = df_final3[\"clusters\"]"
   ]
  },
  {
   "cell_type": "code",
   "execution_count": 61,
   "id": "53c33f58",
   "metadata": {},
   "outputs": [],
   "source": [
    "# X_train, X_test, y_train, y_test = train_test_split(X, y, test_size=0.2, random_state=11)"
   ]
  },
  {
   "cell_type": "code",
   "execution_count": 62,
   "id": "0e7b3a75",
   "metadata": {},
   "outputs": [],
   "source": [
    "# from imblearn.over_sampling import SMOTEN\n",
    "# sampler = SMOTEN(random_state=0)\n",
    "# X_res, y_res = sampler.fit_resample(X_train, y_train)"
   ]
  },
  {
   "cell_type": "code",
   "execution_count": 107,
   "id": "19345fcb",
   "metadata": {},
   "outputs": [],
   "source": [
    "# y_res.value_counts().plot(kind = \"bar\")"
   ]
  },
  {
   "cell_type": "code",
   "execution_count": 108,
   "id": "932873ba",
   "metadata": {},
   "outputs": [],
   "source": [
    "# transform_cat = OneHotEncoder(handle_unknown='ignore')\n",
    "# transform_num = MinMaxScaler()\n",
    "# model_lr = LogisticRegression(max_iter=5000)\n",
    "# preprocess_lr =  ColumnTransformer(\n",
    "#     transformers =[\n",
    "#         ('catToNum', transform_cat, cat),\n",
    "#         ('scalingNumerical', transform_num, num)]\n",
    "#          )\n",
    "# pipe_lr = Pipeline(steps = [('preprocess',preprocess_lr),('LogisticClassifier',model_lr)])\n",
    "#     #Searching for best parameters\n",
    "# param_grid = {\n",
    "#         'LogisticClassifier__penalty': [ 'l1','l2'],\n",
    "#         'LogisticClassifier__C': [5000,500,10,0.1],\n",
    "#         'LogisticClassifier__solver' : ['newton-cg', 'lbfgs', 'liblinear']\n",
    "#          }\n",
    "# cv = StratifiedKFold(n_splits=10, random_state=11, shuffle=True)\n",
    "# model_lr = LogisticRegression(max_iter=5000)\n",
    "# search = GridSearchCV(pipe_lr, param_grid, n_jobs=-1, cv=cv, scoring='accuracy', error_score=0)\n",
    "# search.fit(X_res, y_res)\n",
    "# bestParams = search.best_params_\n",
    "# print('\\n',\"Logistic Regression parameters: \\n\",bestParams)\n",
    "# c = bestParams[\"LogisticClassifier__C\"]\n",
    "# p = bestParams[\"LogisticClassifier__penalty\"]\n",
    "# s = bestParams[\"LogisticClassifier__solver\"]"
   ]
  },
  {
   "cell_type": "code",
   "execution_count": 109,
   "id": "32b5e07b",
   "metadata": {},
   "outputs": [],
   "source": [
    "# finaleModel = LogisticRegression(max_iter=5000, C= c, penalty = p, solver = s)\n",
    "# pipe_lr = Pipeline(steps = [('preprocess',preprocess_lr),('LogisticClassifier',finaleModel)])\n",
    "# pipe_lr.fit(X_res, y_res)\n",
    "# cv = StratifiedKFold(n_splits=10, random_state=11, shuffle=True)\n",
    "# scores = cross_val_score(pipe_lr, X_train, y_train, cv=cv, scoring='accuracy')\n",
    "# print('\\n','Cross-Val Accuracy_train = %.2f' % scores.mean())"
   ]
  },
  {
   "cell_type": "code",
   "execution_count": 110,
   "id": "252e666e",
   "metadata": {},
   "outputs": [],
   "source": [
    "# #Model Evaluation on test data\n",
    "# print(\"\\n Cross-Val Accuracy_test: %.2f\" % pipe_lr.score(X_test, y_test))\n",
    "# print('\\n')"
   ]
  },
  {
   "cell_type": "code",
   "execution_count": 111,
   "id": "d6df220c",
   "metadata": {},
   "outputs": [],
   "source": [
    "# from sklearn import metrics\n",
    "# import eli5\n",
    "# import scikitplot as skplt"
   ]
  },
  {
   "cell_type": "code",
   "execution_count": 112,
   "id": "7706fc55",
   "metadata": {},
   "outputs": [],
   "source": [
    "# y_pred = pipe_lr.predict(X_test)\n",
    "# print(metrics.classification_report(y_test,y_pred),'\\n')\n",
    "# skplt.metrics.plot_confusion_matrix(y_test, y_pred, normalize=True, cmap = 'RdGy')\n",
    "\n",
    "# print('\\n')"
   ]
  },
  {
   "cell_type": "code",
   "execution_count": 69,
   "id": "b3feae5d",
   "metadata": {},
   "outputs": [
    {
     "data": {
      "text/html": [
       "\n",
       "    <style>\n",
       "    table.eli5-weights tr:hover {\n",
       "        filter: brightness(85%);\n",
       "    }\n",
       "</style>\n",
       "\n",
       "\n",
       "\n",
       "    \n",
       "\n",
       "    \n",
       "\n",
       "    \n",
       "\n",
       "    \n",
       "\n",
       "    \n",
       "\n",
       "    \n",
       "\n",
       "\n",
       "    \n",
       "\n",
       "    \n",
       "\n",
       "    \n",
       "\n",
       "    \n",
       "        \n",
       "\n",
       "    \n",
       "\n",
       "        \n",
       "            \n",
       "                \n",
       "                \n",
       "    \n",
       "        <p style=\"margin-bottom: 0.5em; margin-top: 0em\">\n",
       "            <b>\n",
       "    \n",
       "        y=1\n",
       "    \n",
       "</b>\n",
       "\n",
       "top features\n",
       "        </p>\n",
       "    \n",
       "    <table class=\"eli5-weights\"\n",
       "           style=\"border-collapse: collapse; border: none; margin-top: 0em; table-layout: auto; margin-bottom: 2em;\">\n",
       "        <thead>\n",
       "        <tr style=\"border: none;\">\n",
       "            \n",
       "                <th style=\"padding: 0 1em 0 0.5em; text-align: right; border: none;\" title=\"Feature weights. Note that weights do not account for feature value scales, so if feature values have different scales, features with highest weights might not be the most important.\">\n",
       "                    Weight<sup>?</sup>\n",
       "                </th>\n",
       "            \n",
       "            <th style=\"padding: 0 0.5em 0 0.5em; text-align: left; border: none;\">Feature</th>\n",
       "            \n",
       "        </tr>\n",
       "        </thead>\n",
       "        <tbody>\n",
       "        \n",
       "            <tr style=\"background-color: hsl(120, 100.00%, 80.00%); border: none;\">\n",
       "    <td style=\"padding: 0 1em 0 0.5em; text-align: right; border: none;\">\n",
       "        +3.719\n",
       "    </td>\n",
       "    <td style=\"padding: 0 0.5em 0 0.5em; text-align: left; border: none;\">\n",
       "        state_NSW\n",
       "    </td>\n",
       "    \n",
       "</tr>\n",
       "        \n",
       "            <tr style=\"background-color: hsl(120, 100.00%, 91.38%); border: none;\">\n",
       "    <td style=\"padding: 0 1em 0 0.5em; text-align: right; border: none;\">\n",
       "        +1.118\n",
       "    </td>\n",
       "    <td style=\"padding: 0 0.5em 0 0.5em; text-align: left; border: none;\">\n",
       "        state_VIC\n",
       "    </td>\n",
       "    \n",
       "</tr>\n",
       "        \n",
       "            <tr style=\"background-color: hsl(120, 100.00%, 92.20%); border: none;\">\n",
       "    <td style=\"padding: 0 1em 0 0.5em; text-align: right; border: none;\">\n",
       "        +0.968\n",
       "    </td>\n",
       "    <td style=\"padding: 0 0.5em 0 0.5em; text-align: left; border: none;\">\n",
       "        state_QLD\n",
       "    </td>\n",
       "    \n",
       "</tr>\n",
       "        \n",
       "            <tr style=\"background-color: hsl(120, 100.00%, 94.04%); border: none;\">\n",
       "    <td style=\"padding: 0 1em 0 0.5em; text-align: right; border: none;\">\n",
       "        +0.660\n",
       "    </td>\n",
       "    <td style=\"padding: 0 0.5em 0 0.5em; text-align: left; border: none;\">\n",
       "        owns_car_No\n",
       "    </td>\n",
       "    \n",
       "</tr>\n",
       "        \n",
       "            <tr style=\"background-color: hsl(120, 100.00%, 97.06%); border: none;\">\n",
       "    <td style=\"padding: 0 1em 0 0.5em; text-align: right; border: none;\">\n",
       "        +0.241\n",
       "    </td>\n",
       "    <td style=\"padding: 0 0.5em 0 0.5em; text-align: left; border: none;\">\n",
       "        postcode\n",
       "    </td>\n",
       "    \n",
       "</tr>\n",
       "        \n",
       "            <tr style=\"background-color: hsl(120, 100.00%, 97.16%); border: none;\">\n",
       "    <td style=\"padding: 0 1em 0 0.5em; text-align: right; border: none;\">\n",
       "        +0.229\n",
       "    </td>\n",
       "    <td style=\"padding: 0 0.5em 0 0.5em; text-align: left; border: none;\">\n",
       "        wealth_segment_Affluent Customer\n",
       "    </td>\n",
       "    \n",
       "</tr>\n",
       "        \n",
       "            <tr style=\"background-color: hsl(120, 100.00%, 98.83%); border: none;\">\n",
       "    <td style=\"padding: 0 1em 0 0.5em; text-align: right; border: none;\">\n",
       "        +0.064\n",
       "    </td>\n",
       "    <td style=\"padding: 0 0.5em 0 0.5em; text-align: left; border: none;\">\n",
       "        job_industry_category_Entertainment\n",
       "    </td>\n",
       "    \n",
       "</tr>\n",
       "        \n",
       "        \n",
       "\n",
       "        \n",
       "        \n",
       "            <tr style=\"background-color: hsl(0, 100.00%, 98.91%); border: none;\">\n",
       "    <td style=\"padding: 0 1em 0 0.5em; text-align: right; border: none;\">\n",
       "        -0.058\n",
       "    </td>\n",
       "    <td style=\"padding: 0 0.5em 0 0.5em; text-align: left; border: none;\">\n",
       "        gender_M\n",
       "    </td>\n",
       "    \n",
       "</tr>\n",
       "        \n",
       "            <tr style=\"background-color: hsl(0, 100.00%, 97.42%); border: none;\">\n",
       "    <td style=\"padding: 0 1em 0 0.5em; text-align: right; border: none;\">\n",
       "        -0.199\n",
       "    </td>\n",
       "    <td style=\"padding: 0 0.5em 0 0.5em; text-align: left; border: none;\">\n",
       "        job_industry_category_Telecommunications\n",
       "    </td>\n",
       "    \n",
       "</tr>\n",
       "        \n",
       "            <tr style=\"background-color: hsl(0, 100.00%, 97.13%); border: none;\">\n",
       "    <td style=\"padding: 0 1em 0 0.5em; text-align: right; border: none;\">\n",
       "        -0.233\n",
       "    </td>\n",
       "    <td style=\"padding: 0 0.5em 0 0.5em; text-align: left; border: none;\">\n",
       "        job_industry_category_Manufacturing\n",
       "    </td>\n",
       "    \n",
       "</tr>\n",
       "        \n",
       "            <tr style=\"background-color: hsl(0, 100.00%, 96.83%); border: none;\">\n",
       "    <td style=\"padding: 0 1em 0 0.5em; text-align: right; border: none;\">\n",
       "        -0.267\n",
       "    </td>\n",
       "    <td style=\"padding: 0 0.5em 0 0.5em; text-align: left; border: none;\">\n",
       "        job_industry_category_Financial Services\n",
       "    </td>\n",
       "    \n",
       "</tr>\n",
       "        \n",
       "            <tr style=\"background-color: hsl(0, 100.00%, 96.70%); border: none;\">\n",
       "    <td style=\"padding: 0 1em 0 0.5em; text-align: right; border: none;\">\n",
       "        -0.283\n",
       "    </td>\n",
       "    <td style=\"padding: 0 0.5em 0 0.5em; text-align: left; border: none;\">\n",
       "        job_industry_category_Health\n",
       "    </td>\n",
       "    \n",
       "</tr>\n",
       "        \n",
       "            <tr style=\"background-color: hsl(0, 100.00%, 96.20%); border: none;\">\n",
       "    <td style=\"padding: 0 1em 0 0.5em; text-align: right; border: none;\">\n",
       "        -0.347\n",
       "    </td>\n",
       "    <td style=\"padding: 0 0.5em 0 0.5em; text-align: left; border: none;\">\n",
       "        owns_car_Yes\n",
       "    </td>\n",
       "    \n",
       "</tr>\n",
       "        \n",
       "            <tr style=\"background-color: hsl(0, 100.00%, 96.08%); border: none;\">\n",
       "    <td style=\"padding: 0 1em 0 0.5em; text-align: right; border: none;\">\n",
       "        -0.362\n",
       "    </td>\n",
       "    <td style=\"padding: 0 0.5em 0 0.5em; text-align: left; border: none;\">\n",
       "        job_industry_category_Retail\n",
       "    </td>\n",
       "    \n",
       "</tr>\n",
       "        \n",
       "            <tr style=\"background-color: hsl(0, 100.00%, 96.06%); border: none;\">\n",
       "    <td style=\"padding: 0 1em 0 0.5em; text-align: right; border: none;\">\n",
       "        -0.365\n",
       "    </td>\n",
       "    <td style=\"padding: 0 0.5em 0 0.5em; text-align: left; border: none;\">\n",
       "        tenure\n",
       "    </td>\n",
       "    \n",
       "</tr>\n",
       "        \n",
       "            <tr style=\"background-color: hsl(0, 100.00%, 95.84%); border: none;\">\n",
       "    <td style=\"padding: 0 1em 0 0.5em; text-align: right; border: none;\">\n",
       "        -0.394\n",
       "    </td>\n",
       "    <td style=\"padding: 0 0.5em 0 0.5em; text-align: left; border: none;\">\n",
       "        job_industry_category_Argiculture\n",
       "    </td>\n",
       "    \n",
       "</tr>\n",
       "        \n",
       "            <tr style=\"background-color: hsl(0, 100.00%, 95.79%); border: none;\">\n",
       "    <td style=\"padding: 0 1em 0 0.5em; text-align: right; border: none;\">\n",
       "        -0.401\n",
       "    </td>\n",
       "    <td style=\"padding: 0 0.5em 0 0.5em; text-align: left; border: none;\">\n",
       "        past_3_years_bike_related_purchases\n",
       "    </td>\n",
       "    \n",
       "</tr>\n",
       "        \n",
       "            <tr style=\"background-color: hsl(0, 100.00%, 95.66%); border: none;\">\n",
       "    <td style=\"padding: 0 1em 0 0.5em; text-align: right; border: none;\">\n",
       "        -0.419\n",
       "    </td>\n",
       "    <td style=\"padding: 0 0.5em 0 0.5em; text-align: left; border: none;\">\n",
       "        job_industry_category_IT\n",
       "    </td>\n",
       "    \n",
       "</tr>\n",
       "        \n",
       "            <tr style=\"background-color: hsl(0, 100.00%, 95.47%); border: none;\">\n",
       "    <td style=\"padding: 0 1em 0 0.5em; text-align: right; border: none;\">\n",
       "        -0.445\n",
       "    </td>\n",
       "    <td style=\"padding: 0 0.5em 0 0.5em; text-align: left; border: none;\">\n",
       "        gender_F\n",
       "    </td>\n",
       "    \n",
       "</tr>\n",
       "        \n",
       "            <tr style=\"background-color: hsl(0, 100.00%, 95.01%); border: none;\">\n",
       "    <td style=\"padding: 0 1em 0 0.5em; text-align: right; border: none;\">\n",
       "        -0.511\n",
       "    </td>\n",
       "    <td style=\"padding: 0 0.5em 0 0.5em; text-align: left; border: none;\">\n",
       "        job_industry_category_Property\n",
       "    </td>\n",
       "    \n",
       "</tr>\n",
       "        \n",
       "            <tr style=\"background-color: hsl(0, 100.00%, 94.44%); border: none;\">\n",
       "    <td style=\"padding: 0 1em 0 0.5em; text-align: right; border: none;\">\n",
       "        -0.597\n",
       "    </td>\n",
       "    <td style=\"padding: 0 0.5em 0 0.5em; text-align: left; border: none;\">\n",
       "        wealth_segment_Mass Customer\n",
       "    </td>\n",
       "    \n",
       "</tr>\n",
       "        \n",
       "            <tr style=\"background-color: hsl(0, 100.00%, 94.28%); border: none;\">\n",
       "    <td style=\"padding: 0 1em 0 0.5em; text-align: right; border: none;\">\n",
       "        -0.621\n",
       "    </td>\n",
       "    <td style=\"padding: 0 0.5em 0 0.5em; text-align: left; border: none;\">\n",
       "        property_valuation\n",
       "    </td>\n",
       "    \n",
       "</tr>\n",
       "        \n",
       "            <tr style=\"background-color: hsl(0, 100.00%, 94.11%); border: none;\">\n",
       "    <td style=\"padding: 0 1em 0 0.5em; text-align: right; border: none;\">\n",
       "        -0.649\n",
       "    </td>\n",
       "    <td style=\"padding: 0 0.5em 0 0.5em; text-align: left; border: none;\">\n",
       "        age\n",
       "    </td>\n",
       "    \n",
       "</tr>\n",
       "        \n",
       "            <tr style=\"background-color: hsl(0, 100.00%, 88.75%); border: none;\">\n",
       "    <td style=\"padding: 0 1em 0 0.5em; text-align: right; border: none;\">\n",
       "        -1.634\n",
       "    </td>\n",
       "    <td style=\"padding: 0 0.5em 0 0.5em; text-align: left; border: none;\">\n",
       "        wealth_segment_High Net Worth\n",
       "    </td>\n",
       "    \n",
       "</tr>\n",
       "        \n",
       "\n",
       "        </tbody>\n",
       "    </table>\n",
       "\n",
       "            \n",
       "        \n",
       "\n",
       "        \n",
       "\n",
       "\n",
       "\n",
       "    \n",
       "\n",
       "    \n",
       "\n",
       "    \n",
       "\n",
       "    \n",
       "\n",
       "\n",
       "    \n",
       "\n",
       "    \n",
       "\n",
       "    \n",
       "\n",
       "    \n",
       "\n",
       "    \n",
       "\n",
       "    \n",
       "\n",
       "\n",
       "    \n",
       "\n",
       "    \n",
       "\n",
       "    \n",
       "\n",
       "    \n",
       "\n",
       "    \n",
       "\n",
       "    \n",
       "\n",
       "\n",
       "\n"
      ],
      "text/plain": [
       "Explanation(estimator=\"LogisticRegression(C=5000, max_iter=5000, penalty='l1', solver='liblinear')\", description=\"\\nFeatures with largest coefficients.\\nCaveats:\\n1. Be careful with features which are not\\n   independent - weights don't show their importance.\\n2. If scale of input features is different then scale of coefficients\\n   will also be different, making direct comparison between coefficient values\\n   incorrect.\\n3. Depending on regularization, rare features sometimes may have high\\n   coefficients; this doesn't mean they contribute much to the\\n   classification result for most examples.\\n\", error=None, method='linear model', is_regression=False, targets=[TargetExplanation(target=1, feature_weights=FeatureWeights(pos=[FeatureWeight(feature='state_NSW', weight=3.7187414756254857, std=None, value=None), FeatureWeight(feature='state_VIC', weight=1.1180223653479873, std=None, value=None), FeatureWeight(feature='state_QLD', weight=0.9680207887026875, std=None, value=None), FeatureWeight(feature='owns_car_No', weight=0.6600254114881794, std=None, value=None), FeatureWeight(feature='postcode', weight=0.24079175368863345, std=None, value=None), FeatureWeight(feature='wealth_segment_Affluent Customer', weight=0.2286887282001253, std=None, value=None), FeatureWeight(feature='job_industry_category_Entertainment', weight=0.06420065749906523, std=None, value=None)], neg=[FeatureWeight(feature='wealth_segment_High Net Worth', weight=-1.6340786740450606, std=None, value=None), FeatureWeight(feature='age', weight=-0.6486854781436122, std=None, value=None), FeatureWeight(feature='property_valuation', weight=-0.6214668508824599, std=None, value=None), FeatureWeight(feature='wealth_segment_Mass Customer', weight=-0.5968836625948856, std=None, value=None), FeatureWeight(feature='job_industry_category_Property', weight=-0.5110391964741585, std=None, value=None), FeatureWeight(feature='gender_F', weight=-0.4452784619748218, std=None, value=None), FeatureWeight(feature='job_industry_category_IT', weight=-0.4185990815741473, std=None, value=None), FeatureWeight(feature='past_3_years_bike_related_purchases', weight=-0.4012668437038294, std=None, value=None), FeatureWeight(feature='job_industry_category_Argiculture', weight=-0.39407934859096994, std=None, value=None), FeatureWeight(feature='tenure', weight=-0.36489228338265123, std=None, value=None), FeatureWeight(feature='job_industry_category_Retail', weight=-0.3622281706447561, std=None, value=None), FeatureWeight(feature='owns_car_Yes', weight=-0.3465707211549882, std=None, value=None), FeatureWeight(feature='job_industry_category_Health', weight=-0.28339818077324724, std=None, value=None), FeatureWeight(feature='job_industry_category_Financial Services', weight=-0.2670652473780321, std=None, value=None), FeatureWeight(feature='job_industry_category_Manufacturing', weight=-0.23259455834107048, std=None, value=None), FeatureWeight(feature='job_industry_category_Telecommunications', weight=-0.1990905434261064, std=None, value=None), FeatureWeight(feature='gender_M', weight=-0.05823962510747212, std=None, value=None)], pos_remaining=0, neg_remaining=0), proba=None, score=None, weighted_spans=None, heatmap=None)], feature_importances=None, decision_tree=None, highlight_spaces=None, transition_features=None, image=None)"
      ]
     },
     "execution_count": 69,
     "metadata": {},
     "output_type": "execute_result"
    }
   ],
   "source": [
    "# onehot_columns = pipe_lr.named_steps[\"preprocess\"].named_transformers_[\"catToNum\"].get_feature_names(input_features=cat)\n",
    "# numeric_features_list = list(num)\n",
    "# numeric_features_list.extend(onehot_columns)\n",
    "\n",
    "# eli5.explain_weights(pipe_lr.named_steps['LogisticClassifier'], top=50, feature_names=numeric_features_list, feature_filter=lambda x: x != '<BIAS>')"
   ]
  },
  {
   "cell_type": "markdown",
   "id": "2a99e231",
   "metadata": {},
   "source": [
    "#### The learning model gives a very poor performance in classifying the best customers. Thus even if the model is applied on the new customers dataset. It wont be reliable."
   ]
  },
  {
   "cell_type": "code",
   "execution_count": null,
   "id": "741cb9e9",
   "metadata": {},
   "outputs": [],
   "source": []
  },
  {
   "cell_type": "code",
   "execution_count": null,
   "id": "a35b5038",
   "metadata": {},
   "outputs": [],
   "source": []
  },
  {
   "cell_type": "code",
   "execution_count": 80,
   "id": "c9a14cfb",
   "metadata": {},
   "outputs": [],
   "source": [
    "# from sklearn.ensemble import RandomForestClassifier\n",
    "# cat = df_final3.select_dtypes(include = [\"object\"]).columns\n",
    "# num = df_final3.select_dtypes(include = [\"int64\",\"float64\"]).columns"
   ]
  },
  {
   "cell_type": "code",
   "execution_count": 84,
   "id": "5eaace81",
   "metadata": {},
   "outputs": [],
   "source": [
    "# transform_cat = OneHotEncoder(handle_unknown='ignore')\n",
    "# transform_num = MinMaxScaler()\n",
    "# model_rf = RandomForestClassifier()\n",
    "\n",
    "# preprocess_rf =  ColumnTransformer(transformers =[('catToNum', transform_cat, cat),('scalingNumerical', transform_num, num)])\n"
   ]
  },
  {
   "cell_type": "code",
   "execution_count": 88,
   "id": "a2e96ac0",
   "metadata": {},
   "outputs": [
    {
     "name": "stdout",
     "output_type": "stream",
     "text": [
      "Accuracy = 0.4975149007438057\n"
     ]
    }
   ],
   "source": [
    "# finaleModel =  RandomForestClassifier(n_estimators=1000, criterion=\"gini\", max_depth=100, min_samples_split=120, min_samples_leaf=40, max_features=0.7, bootstrap=True,n_jobs = -1,class_weight = \"balanced\")\n",
    "\n",
    "# preprocess_rf =  ColumnTransformer(transformers =[('catToNum', transform_cat, cat),('scalingNumerical', transform_num, num)])\n",
    "# pipe_rf = Pipeline(steps = [('preprocess',preprocess_rf),('RF',finaleModel)])\n",
    "# pipe_rf.fit(X_train, y_train)\n",
    "\n",
    "# cv = StratifiedKFold(n_splits=10, random_state=1, shuffle=True)\n",
    "\n",
    "# scores = cross_val_score(pipe_rf, X_train, y_train, cv=cv, scoring='accuracy')\n",
    "# print('Accuracy =',scores.mean())"
   ]
  },
  {
   "cell_type": "code",
   "execution_count": 89,
   "id": "1fdfd5ad",
   "metadata": {},
   "outputs": [
    {
     "name": "stdout",
     "output_type": "stream",
     "text": [
      "model score or (Accuracy): 0.4990\n"
     ]
    }
   ],
   "source": [
    "# print(\"model score or (Accuracy): %.4f\" % pipe_rf.score(X_test, y_test))"
   ]
  },
  {
   "cell_type": "code",
   "execution_count": 90,
   "id": "8513fec0",
   "metadata": {},
   "outputs": [
    {
     "data": {
      "text/plain": [
       "<AxesSubplot:title={'center':'Normalized Confusion Matrix'}, xlabel='Predicted label', ylabel='True label'>"
      ]
     },
     "execution_count": 90,
     "metadata": {},
     "output_type": "execute_result"
    },
    {
     "data": {
      "image/png": "[encoded data removed]",
      "text/plain": [
       "<Figure size 432x288 with 2 Axes>"
      ]
     },
     "metadata": {
      "needs_background": "light"
     },
     "output_type": "display_data"
    }
   ],
   "source": [
    "# import scikitplot as skplt\n",
    "# y_pred = pipe_rf.predict(X_test)\n",
    "# skplt.metrics.plot_confusion_matrix(y_test, y_pred, normalize=True, cmap = 'RdGy')"
   ]
  },
  {
   "cell_type": "code",
   "execution_count": 91,
   "id": "4dca970d",
   "metadata": {},
   "outputs": [
    {
     "name": "stdout",
     "output_type": "stream",
     "text": [
      "              precision    recall  f1-score   support\n",
      "\n",
      "           0       0.35      0.45      0.39       182\n",
      "           1       0.63      0.53      0.57       323\n",
      "\n",
      "    accuracy                           0.50       505\n",
      "   macro avg       0.49      0.49      0.48       505\n",
      "weighted avg       0.53      0.50      0.51       505\n",
      "\n"
     ]
    }
   ],
   "source": [
    "# from sklearn import metrics\n",
    "# print(metrics.classification_report(y_test,y_pred))"
   ]
  },
  {
   "cell_type": "code",
   "execution_count": null,
   "id": "88bb205b",
   "metadata": {},
   "outputs": [],
   "source": [
    "# Seems like machine learning models fails to learn from the data"
   ]
  },
  {
   "cell_type": "code",
   "execution_count": null,
   "id": "1de4e1ef",
   "metadata": {},
   "outputs": [],
   "source": []
  },
  {
   "cell_type": "code",
   "execution_count": 113,
   "id": "936a5c4a",
   "metadata": {},
   "outputs": [],
   "source": []
  },
  {
   "cell_type": "code",
   "execution_count": 114,
   "id": "9ae86f1d",
   "metadata": {
    "scrolled": true
   },
   "outputs": [
    {
     "data": {
      "text/html": [
       "<div>\n",
       "<style scoped>\n",
       "    .dataframe tbody tr th:only-of-type {\n",
       "        vertical-align: middle;\n",
       "    }\n",
       "\n",
       "    .dataframe tbody tr th {\n",
       "        vertical-align: top;\n",
       "    }\n",
       "\n",
       "    .dataframe thead th {\n",
       "        text-align: right;\n",
       "    }\n",
       "</style>\n",
       "<table border=\"1\" class=\"dataframe\">\n",
       "  <thead>\n",
       "    <tr style=\"text-align: right;\">\n",
       "      <th></th>\n",
       "      <th>gender</th>\n",
       "      <th>past_3_years_bike_related_purchases</th>\n",
       "      <th>job_title</th>\n",
       "      <th>job_industry_category</th>\n",
       "      <th>wealth_segment</th>\n",
       "      <th>owns_car</th>\n",
       "      <th>tenure</th>\n",
       "      <th>postcode</th>\n",
       "      <th>state</th>\n",
       "      <th>property_valuation</th>\n",
       "      <th>clusters</th>\n",
       "      <th>age</th>\n",
       "    </tr>\n",
       "  </thead>\n",
       "  <tbody>\n",
       "    <tr>\n",
       "      <th>0</th>\n",
       "      <td>M</td>\n",
       "      <td>19</td>\n",
       "      <td>Software Engineer I</td>\n",
       "      <td>Financial Services</td>\n",
       "      <td>Mass Customer</td>\n",
       "      <td>Yes</td>\n",
       "      <td>10.0</td>\n",
       "      <td>3064</td>\n",
       "      <td>VIC</td>\n",
       "      <td>6</td>\n",
       "      <td>1</td>\n",
       "      <td>66.0</td>\n",
       "    </tr>\n",
       "    <tr>\n",
       "      <th>1</th>\n",
       "      <td>M</td>\n",
       "      <td>19</td>\n",
       "      <td>Software Engineer I</td>\n",
       "      <td>Financial Services</td>\n",
       "      <td>Mass Customer</td>\n",
       "      <td>Yes</td>\n",
       "      <td>10.0</td>\n",
       "      <td>3064</td>\n",
       "      <td>VIC</td>\n",
       "      <td>6</td>\n",
       "      <td>1</td>\n",
       "      <td>66.0</td>\n",
       "    </tr>\n",
       "    <tr>\n",
       "      <th>2</th>\n",
       "      <td>M</td>\n",
       "      <td>19</td>\n",
       "      <td>Software Engineer I</td>\n",
       "      <td>Financial Services</td>\n",
       "      <td>Mass Customer</td>\n",
       "      <td>Yes</td>\n",
       "      <td>10.0</td>\n",
       "      <td>3064</td>\n",
       "      <td>VIC</td>\n",
       "      <td>6</td>\n",
       "      <td>1</td>\n",
       "      <td>66.0</td>\n",
       "    </tr>\n",
       "    <tr>\n",
       "      <th>3</th>\n",
       "      <td>F</td>\n",
       "      <td>89</td>\n",
       "      <td>Clinical Specialist</td>\n",
       "      <td>Health</td>\n",
       "      <td>Mass Customer</td>\n",
       "      <td>Yes</td>\n",
       "      <td>10.0</td>\n",
       "      <td>2196</td>\n",
       "      <td>NSW</td>\n",
       "      <td>5</td>\n",
       "      <td>0</td>\n",
       "      <td>42.0</td>\n",
       "    </tr>\n",
       "    <tr>\n",
       "      <th>4</th>\n",
       "      <td>F</td>\n",
       "      <td>89</td>\n",
       "      <td>Clinical Specialist</td>\n",
       "      <td>Health</td>\n",
       "      <td>Mass Customer</td>\n",
       "      <td>Yes</td>\n",
       "      <td>10.0</td>\n",
       "      <td>2196</td>\n",
       "      <td>NSW</td>\n",
       "      <td>5</td>\n",
       "      <td>0</td>\n",
       "      <td>42.0</td>\n",
       "    </tr>\n",
       "  </tbody>\n",
       "</table>\n",
       "</div>"
      ],
      "text/plain": [
       "  gender  past_3_years_bike_related_purchases            job_title  \\\n",
       "0      M                                   19  Software Engineer I   \n",
       "1      M                                   19  Software Engineer I   \n",
       "2      M                                   19  Software Engineer I   \n",
       "3      F                                   89  Clinical Specialist   \n",
       "4      F                                   89  Clinical Specialist   \n",
       "\n",
       "  job_industry_category wealth_segment owns_car  tenure  postcode state  \\\n",
       "0    Financial Services  Mass Customer      Yes    10.0      3064   VIC   \n",
       "1    Financial Services  Mass Customer      Yes    10.0      3064   VIC   \n",
       "2    Financial Services  Mass Customer      Yes    10.0      3064   VIC   \n",
       "3                Health  Mass Customer      Yes    10.0      2196   NSW   \n",
       "4                Health  Mass Customer      Yes    10.0      2196   NSW   \n",
       "\n",
       "   property_valuation  clusters   age  \n",
       "0                   6         1  66.0  \n",
       "1                   6         1  66.0  \n",
       "2                   6         1  66.0  \n",
       "3                   5         0  42.0  \n",
       "4                   5         0  42.0  "
      ]
     },
     "execution_count": 114,
     "metadata": {},
     "output_type": "execute_result"
    }
   ],
   "source": [
    "df_final2.head()"
   ]
  },
  {
   "cell_type": "code",
   "execution_count": null,
   "id": "ce95ca0b",
   "metadata": {},
   "outputs": [],
   "source": []
  },
  {
   "cell_type": "code",
   "execution_count": null,
   "id": "b6b9b64d",
   "metadata": {},
   "outputs": [],
   "source": []
  },
  {
   "cell_type": "code",
   "execution_count": null,
   "id": "86e3fa0c",
   "metadata": {},
   "outputs": [],
   "source": []
  },
  {
   "cell_type": "code",
   "execution_count": null,
   "id": "97b00d8c",
   "metadata": {},
   "outputs": [],
   "source": []
  },
  {
   "cell_type": "code",
   "execution_count": null,
   "id": "c958a5a8",
   "metadata": {},
   "outputs": [],
   "source": []
  },
  {
   "cell_type": "code",
   "execution_count": null,
   "id": "854c6495",
   "metadata": {},
   "outputs": [],
   "source": []
  },
  {
   "cell_type": "code",
   "execution_count": null,
   "id": "4344c8d3",
   "metadata": {},
   "outputs": [],
   "source": []
  },
  {
   "cell_type": "code",
   "execution_count": null,
   "id": "4db02e17",
   "metadata": {},
   "outputs": [],
   "source": []
  },
  {
   "cell_type": "code",
   "execution_count": null,
   "id": "a0c556df",
   "metadata": {},
   "outputs": [],
   "source": [
    "# groupby = [\"brand\",\"product_id\",\"customer_id\",\"online_order\",\"brand\",\"product_line\",\"product_class\",\"product_size\",\"gender\",\"job_industry_category\",\"job_title\",\"wealth_segment\",\"owns_car\",\"tenure\",\"state\",\"property_valuation\"]\n",
    "# measures = [\"profit\"]\n",
    "# for group in groupby:\n",
    "#     for measure in measures:\n",
    "#         report.groupByPlot(group,measure)"
   ]
  },
  {
   "cell_type": "code",
   "execution_count": null,
   "id": "a7fc977e",
   "metadata": {},
   "outputs": [],
   "source": [
    "# df.head()"
   ]
  },
  {
   "cell_type": "code",
   "execution_count": null,
   "id": "a095844c",
   "metadata": {},
   "outputs": [],
   "source": []
  },
  {
   "cell_type": "code",
   "execution_count": null,
   "id": "a282bfd9",
   "metadata": {},
   "outputs": [],
   "source": []
  },
  {
   "cell_type": "code",
   "execution_count": null,
   "id": "e7a5a7c5",
   "metadata": {},
   "outputs": [],
   "source": []
  },
  {
   "cell_type": "code",
   "execution_count": null,
   "id": "1f7bec39",
   "metadata": {},
   "outputs": [],
   "source": []
  },
  {
   "cell_type": "code",
   "execution_count": null,
   "id": "2d56d023",
   "metadata": {},
   "outputs": [],
   "source": [
    "# plt.figure(figsize=(15,5))\n",
    "# sns.relplot(x=column1,y=column2,data=df, height = 5,aspect = 3)"
   ]
  },
  {
   "cell_type": "code",
   "execution_count": null,
   "id": "eaad01db",
   "metadata": {},
   "outputs": [],
   "source": []
  },
  {
   "cell_type": "code",
   "execution_count": null,
   "id": "45ef843c",
   "metadata": {},
   "outputs": [],
   "source": []
  },
  {
   "cell_type": "code",
   "execution_count": null,
   "id": "9ddbc3bf",
   "metadata": {},
   "outputs": [],
   "source": []
  },
  {
   "cell_type": "code",
   "execution_count": null,
   "id": "173217f1",
   "metadata": {},
   "outputs": [],
   "source": []
  },
  {
   "cell_type": "code",
   "execution_count": null,
   "id": "8bb27f7f",
   "metadata": {},
   "outputs": [],
   "source": []
  },
  {
   "cell_type": "code",
   "execution_count": null,
   "id": "7d15b7c9",
   "metadata": {},
   "outputs": [],
   "source": []
  },
  {
   "cell_type": "code",
   "execution_count": null,
   "id": "6be5fd78",
   "metadata": {},
   "outputs": [],
   "source": []
  },
  {
   "cell_type": "code",
   "execution_count": null,
   "id": "db8a5216",
   "metadata": {},
   "outputs": [],
   "source": []
  },
  {
   "cell_type": "code",
   "execution_count": null,
   "id": "6aa844e4",
   "metadata": {},
   "outputs": [],
   "source": [
    "# pp= df[[\"gender\",\"age\",\"past_3_years_bike_related_purchases\",\"job_title\",\"owns_car\",\"tenure\",\"state\",\"property_valuation\",\"profitMargin\"]]\n",
    "# sns.pairplot(pp)"
   ]
  },
  {
   "cell_type": "code",
   "execution_count": null,
   "id": "50d65ed7",
   "metadata": {},
   "outputs": [],
   "source": [
    "#data.groupby([\"customer_id\"])[\"profit\"].sum().sort_values(ascending = False)       # 3489"
   ]
  },
  {
   "cell_type": "code",
   "execution_count": null,
   "id": "baacb6a0",
   "metadata": {},
   "outputs": [],
   "source": [
    "#df = df[[\"transaction_id\",\"product_id\",\"customer_id\",\"online_order\",\"order_status\",\"brand\",\"product_line\",\"product_class\",\"product_size\",\"gender\",\"past_3_years_bike_related_purchases\",\"DOB\",\"job_title\",\"job_industry_category\",\"wealth_segment\",\"deceased_indicator\",\"owns_car\",\"tenure\",\"state\",\"property_valuation\",\"transaction_month\",\"profit\"]]"
   ]
  },
  {
   "cell_type": "code",
   "execution_count": null,
   "id": "ab8cbb11",
   "metadata": {},
   "outputs": [],
   "source": [
    "#report.univarDist()"
   ]
  },
  {
   "cell_type": "code",
   "execution_count": null,
   "id": "686b3ddd",
   "metadata": {},
   "outputs": [],
   "source": []
  },
  {
   "cell_type": "code",
   "execution_count": null,
   "id": "b9200a40",
   "metadata": {},
   "outputs": [],
   "source": []
  }
 ],
 "metadata": {
  "interpreter": {
   "hash": "99c5a35bf395c23ad1ea8f0d7552bc5fde5cdd462cc51c20d5f7b18f40f2b796"
  },
  "kernelspec": {
   "display_name": "Python 3 (ipykernel)",
   "language": "python",
   "name": "python3"
  },
  "language_info": {
   "codemirror_mode": {
    "name": "ipython",
    "version": 3
   },
   "file_extension": ".py",
   "mimetype": "text/x-python",
   "name": "python",
   "nbconvert_exporter": "python",
   "pygments_lexer": "ipython3",
   "version": "3.8.11"
  }
 },
 "nbformat": 4,
 "nbformat_minor": 5
}
