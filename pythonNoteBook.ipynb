{
 "cells": [
  {
   "cell_type": "markdown",
   "metadata": {},
   "source": [
    "## Business requirements\n",
    "Sprocket Central Pty Ltd needs help with its customer and transactions data. The organisation has a large dataset relating to its customers, but their team is unsure how to effectively analyse it to help optimise its marketing strategy. \n",
    "## Task 1\n",
    "please find the 3 datasets attached from Sprocket Central Pty Ltd: \n",
    "<br />\n",
    "1) *Customer Demographic* <br />\n",
    "2) *Customer Addresses*  <br/>\n",
    "3) *Transaction data in the past three months*  \n",
    "<br />\n",
    "Can you please review the data quality to ensure that it is ready for our analysis in phase two. Remember to take note of any assumptions or issues we need to go back to the client on. As well as recommendations going forward to mitigate current data quality concerns.\n",
    "\n",
    "\n",
    "“Hi there – Welcome again to the team! The client has asked our team to assess the quality of their data; as well as make recommendations on ways to clean the underlying data and mitigate these issues.  Can you please take a look at the datasets we’ve received and draft an email to them identifying the data quality issues and how this may impact our analysis going forward?\n",
    "\n",
    "I will send through an example of a typical data quality framework that can be used as a guide. Remember to consider the join keys between the tables too. Thanks again for your help.”"
   ]
  },
  {
   "cell_type": "code",
   "execution_count": 47,
   "metadata": {},
   "outputs": [],
   "source": [
    "import pandas as pd \n",
    "from matplotlib import pyplot as plt \n",
    "import seaborn as sns\n",
    "import matplotlib"
   ]
  },
  {
   "cell_type": "code",
   "execution_count": 3,
   "metadata": {},
   "outputs": [],
   "source": [
    "excelFile = pd.ExcelFile(\"kpmg.xlsx\")       # pip install openpyxl"
   ]
  },
  {
   "cell_type": "code",
   "execution_count": 4,
   "metadata": {},
   "outputs": [],
   "source": [
    "Transactions = pd.read_excel(excelFile, 'Transactions', skiprows=[0]) \n",
    "CustomerDemographic = pd.read_excel(excelFile,'CustomerDemographic', skiprows=[0]) \n",
    "CustomerAddress = pd.read_excel(excelFile, 'CustomerAddress', skiprows=[0])\n",
    "pd.set_option(\"display.max_columns\",100) \n",
    "pd.set_option(\"display.max_rows\",None) "
   ]
  },
  {
   "cell_type": "code",
   "execution_count": 5,
   "metadata": {},
   "outputs": [
    {
     "data": {
      "text/plain": [
       "Index(['transaction_id', 'product_id', 'customer_id', 'transaction_date',\n",
       "       'online_order', 'order_status', 'brand', 'product_line',\n",
       "       'product_class', 'product_size', 'list_price', 'standard_cost',\n",
       "       'product_first_sold_date'],\n",
       "      dtype='object')"
      ]
     },
     "execution_count": 5,
     "metadata": {},
     "output_type": "execute_result"
    }
   ],
   "source": [
    "Transactions.columns "
   ]
  },
  {
   "cell_type": "code",
   "execution_count": 6,
   "metadata": {},
   "outputs": [
    {
     "data": {
      "text/plain": [
       "Index(['customer_id', 'first_name', 'last_name', 'gender',\n",
       "       'past_3_years_bike_related_purchases', 'DOB', 'job_title',\n",
       "       'job_industry_category', 'wealth_segment', 'deceased_indicator',\n",
       "       'default', 'owns_car', 'tenure'],\n",
       "      dtype='object')"
      ]
     },
     "execution_count": 6,
     "metadata": {},
     "output_type": "execute_result"
    }
   ],
   "source": [
    "Transactions = Transactions.iloc[:,0:13] \n",
    "CustomerDemographic.columns"
   ]
  },
  {
   "cell_type": "code",
   "execution_count": 7,
   "metadata": {},
   "outputs": [
    {
     "data": {
      "text/plain": [
       "Index(['customer_id', 'address', 'postcode', 'state', 'country',\n",
       "       'property_valuation'],\n",
       "      dtype='object')"
      ]
     },
     "execution_count": 7,
     "metadata": {},
     "output_type": "execute_result"
    }
   ],
   "source": [
    "CustomerDemographic = CustomerDemographic.iloc[:,0:13] \n",
    "CustomerAddress.columns "
   ]
  },
  {
   "cell_type": "code",
   "execution_count": 8,
   "metadata": {},
   "outputs": [
    {
     "data": {
      "text/html": [
       "<div>\n",
       "<style scoped>\n",
       "    .dataframe tbody tr th:only-of-type {\n",
       "        vertical-align: middle;\n",
       "    }\n",
       "\n",
       "    .dataframe tbody tr th {\n",
       "        vertical-align: top;\n",
       "    }\n",
       "\n",
       "    .dataframe thead th {\n",
       "        text-align: right;\n",
       "    }\n",
       "</style>\n",
       "<table border=\"1\" class=\"dataframe\">\n",
       "  <thead>\n",
       "    <tr style=\"text-align: right;\">\n",
       "      <th></th>\n",
       "      <th>customer_id</th>\n",
       "      <th>address</th>\n",
       "      <th>postcode</th>\n",
       "      <th>state</th>\n",
       "      <th>country</th>\n",
       "      <th>property_valuation</th>\n",
       "    </tr>\n",
       "  </thead>\n",
       "  <tbody>\n",
       "  </tbody>\n",
       "</table>\n",
       "</div>"
      ],
      "text/plain": [
       "Empty DataFrame\n",
       "Columns: [customer_id, address, postcode, state, country, property_valuation]\n",
       "Index: []"
      ]
     },
     "execution_count": 8,
     "metadata": {},
     "output_type": "execute_result"
    }
   ],
   "source": [
    "CustomerAddress = CustomerAddress.iloc[:,0:6]  \n",
    "CustomerAddress.head(0) "
   ]
  },
  {
   "cell_type": "code",
   "execution_count": 9,
   "metadata": {},
   "outputs": [],
   "source": [
    "data = pd.merge(CustomerDemographic,CustomerAddress, on=\"customer_id\")  \n",
    "data = pd.merge(Transactions,data, on=\"customer_id\") \n",
    "data.to_csv(\"customerData.csv\") "
   ]
  },
  {
   "cell_type": "code",
   "execution_count": 15,
   "metadata": {},
   "outputs": [
    {
     "name": "stdout",
     "output_type": "stream",
     "text": [
      "<class 'pandas.core.frame.DataFrame'>\n",
      "Int64Index: 19968 entries, 0 to 19967\n",
      "Data columns (total 30 columns):\n",
      " #   Column                               Non-Null Count  Dtype         \n",
      "---  ------                               --------------  -----         \n",
      " 0   transaction_id                       19968 non-null  int64         \n",
      " 1   product_id                           19968 non-null  int64         \n",
      " 2   customer_id                          19968 non-null  int64         \n",
      " 3   transaction_date                     19968 non-null  datetime64[ns]\n",
      " 4   online_order                         19609 non-null  float64       \n",
      " 5   order_status                         19968 non-null  object        \n",
      " 6   brand                                19773 non-null  object        \n",
      " 7   product_line                         19773 non-null  object        \n",
      " 8   product_class                        19773 non-null  object        \n",
      " 9   product_size                         19773 non-null  object        \n",
      " 10  list_price                           19968 non-null  float64       \n",
      " 11  standard_cost                        19773 non-null  float64       \n",
      " 12  product_first_sold_date              19773 non-null  float64       \n",
      " 13  first_name                           19968 non-null  object        \n",
      " 14  last_name                            19326 non-null  object        \n",
      " 15  gender                               19968 non-null  object        \n",
      " 16  past_3_years_bike_related_purchases  19968 non-null  int64         \n",
      " 17  DOB                                  19522 non-null  datetime64[ns]\n",
      " 18  job_title                            17589 non-null  object        \n",
      " 19  job_industry_category                16746 non-null  object        \n",
      " 20  wealth_segment                       19968 non-null  object        \n",
      " 21  deceased_indicator                   19968 non-null  object        \n",
      " 22  default                              18517 non-null  object        \n",
      " 23  owns_car                             19968 non-null  object        \n",
      " 24  tenure                               19522 non-null  float64       \n",
      " 25  address                              19968 non-null  object        \n",
      " 26  postcode                             19968 non-null  int64         \n",
      " 27  state                                19968 non-null  object        \n",
      " 28  country                              19968 non-null  object        \n",
      " 29  property_valuation                   19968 non-null  int64         \n",
      "dtypes: datetime64[ns](2), float64(5), int64(6), object(17)\n",
      "memory usage: 4.7+ MB\n"
     ]
    }
   ],
   "source": [
    "data.info()"
   ]
  },
  {
   "cell_type": "code",
   "execution_count": 59,
   "metadata": {},
   "outputs": [
    {
     "name": "stdout",
     "output_type": "stream",
     "text": [
      " Size of the data set (19968, 30) \n",
      "\n",
      " Number of Unique values per column \n",
      "\n",
      "\n",
      "\n",
      "column  transaction_id  has high variance\n",
      "\n",
      "\n",
      "column  product_id  has high variance\n",
      "\n",
      "\n",
      "column  customer_id  has high variance\n",
      "\n",
      "\n",
      "column  transaction_date  has high variance\n",
      "\n",
      "\n",
      "online_order  :  3\n",
      "[ 0.  1. nan]\n",
      "\n",
      "\n",
      "order_status  :  2\n",
      "['Approved' 'Cancelled']\n",
      "\n",
      "\n",
      "brand  :  7\n",
      "['Solex' 'Giant Bicycles' 'Trek Bicycles' 'WeareA2B' 'OHM Cycles'\n",
      " 'Norco Bicycles' nan]\n",
      "\n",
      "\n",
      "product_line  :  5\n",
      "['Standard' 'Road' 'Touring' 'Mountain' nan]\n",
      "\n",
      "\n",
      "product_class  :  4\n",
      "['medium' 'high' 'low' nan]\n",
      "\n",
      "\n",
      "product_size  :  4\n",
      "['medium' 'large' 'small' nan]\n",
      "\n",
      "\n",
      "column  list_price  has high variance\n",
      "\n",
      "\n",
      "column  standard_cost  has high variance\n",
      "\n",
      "\n",
      "column  product_first_sold_date  has high variance\n",
      "\n",
      "\n",
      "column  first_name  has high variance\n",
      "\n",
      "\n",
      "column  last_name  has high variance\n",
      "\n",
      "\n",
      "gender  :  6\n",
      "['Male' 'Female' 'U' 'F' 'M' 'Femal']\n",
      "\n",
      "\n",
      "column  past_3_years_bike_related_purchases  has high variance\n",
      "\n",
      "\n",
      "column  DOB  has high variance\n",
      "\n",
      "\n",
      "column  job_title  has high variance\n",
      "\n",
      "\n",
      "job_industry_category  :  10\n",
      "['Financial Services' 'Health' 'Retail' 'Property' 'Manufacturing'\n",
      " 'Entertainment' 'IT' nan 'Argiculture' 'Telecommunications']\n",
      "\n",
      "\n",
      "wealth_segment  :  3\n",
      "['Mass Customer' 'Affluent Customer' 'High Net Worth']\n",
      "\n",
      "\n",
      "deceased_indicator  :  2\n",
      "['N' 'Y']\n",
      "\n",
      "\n",
      "default  :  91\n",
      "['ã»(ï¿£âï¿£)ã»:*:' 'ZÌ®ÌÍÌ\\xa0ÍÍAÌ¥ÌÌÍÌ»ÌLÌ£ÍÍÌ¯Ì¹ÌÍGÌ»OÌ\\xadÌÌ®'\n",
      " 'testâ\\xa0testâ«' 'â°â´âµâââ'\n",
      " 'Ì¡ÍÍÌIÍÌÌÌ¦nÍÍÍvÌ®Ì«okÌ²Ì«ÌÍiÌÍÌ\\xadÌ¹Ì\\xa0ÌnÌ¡Ì»Ì®Ì£ÌºgÌ²ÍÍÌ\\xadÍÌ¬Í Ì°tÍÌ¦hÌÌ²eÌ¢Ì¤ ÍÌ¬Ì²ÍfÌ´ÌÍÌ£eÍÍeÌ£Ì¥Ì©lÍÍÍiÍ\\xa0ÍÍÌ¦nÍÍÌÍÌ³Ì®gÍ Ì¨oÍ¡ÍÌªfÌÌ£Ì¬ ÌÌÍÌÍÌ®cÒÍÌ«ÍÍÍÍÍhÌµÌ¤Ì£ÍÍaÍÌÌ¼ÍÍoÌ¼Ì£Ì¥sÍ¢Ì±ÍÌºÌÌ¦Ì».ÌÌ'\n",
      " 'á' 'Ù¡Ù¢Ù£' nan '1/0' '\\'\"\\'\\'\\'\\'\"' datetime.datetime(2018, 2, 1, 0, 0)\n",
      " '\"\\'' '(ï½¡â â âï½¡)' 'ï½ï½¨(Â´âï½â©' 'â°â´âµ' 100 'á\\xa0' 'é¨è½æ\\xa0¼'\n",
      " 'ð¾ ð ð ð ð ð ð ð§' 'ãã¼ãã£ã¼ã¸è¡ããªãã' '(ï¾à²¥çà²¥ï¼ï¾ï»¿ â»ââ»' 'â¢'\n",
      " -100 \"'\" '\\'\\'\\'\\'\"' 'â©testâ©'\n",
      " '() { 0; }; touch /tmp/blns.shellshock1.fail;' 'ðµ ð ð ð'\n",
      " 'TÌÌ\\xadÌºÌºoÍ Ì·iÌ²Ì¬ÍÌªÍnÌÌÍvÍÌÌÌÌ¦oÌ¶ÌÌ°Ì\\xa0keÍÍÌ®ÌºÌªÌ¹Ì±Ì¤ ÌtÍÌÍÌ³Ì£Ì»ÌªhÌ¼ÍÌ²Ì¦Ì³ÌÌ²eÍÌ£Ì°Ì¦Ì¬Í Ì¢Ì¼Ì»Ì±ÌhÍÍÍÍÌÌ£Ì²iÌ¦Ì²Ì£Ì°Ì¤vÌ»ÍeÌºÌ\\xadÌ³ÌªÌ°-mÌ¢iÍnÌÌºÌÌ²Ì¯Ì°dÌµÌ¼ÌÍÌ©Ì¼ÌÌ³ ÌÌ¥Ì±Ì³Ì\\xadrÌÌÌeÍpÍ\\xa0rÌ¼ÌÌ»Ì\\xadÌeÍÌºÌ\\xa0Ì£sÌ'\n",
      " 'Ì¦HÍÌ¬Ì¤ÌÌ¤eÍ ÍÌÌ¥ÌÌ»ÍÌwÌhÌÌ¯ÍoÌÍÌÍÌ±Ì® ÒÌºÌÌÌÍWÌ·Ì¼Ì\\xadaÌºÌªÍiÌ¨ÍÍÌ\\xadÍÌ¯ÌtÌ¶Ì¼Ì®sÌÌÍÍ Ì\\xa0Ì«Ì\\xa0BÌ»ÍÍÍÍÌ³eÌµhÌµÌ¬ÍÌ«ÍiÌÌ¹ÍÌ³Ì³Ì®ÍÌ«nÍdÌ´ÌªÌÌ ÍÌ°ÍÌ©ÍÍÍÌ²TÍ¢ÍÌ¼ÍÌªhÍÍÌ®Ì»eÌ¬ÌÍÌ Ì¤Ì¹ÌWÍÍÍÌÌÍÍaÍÍÍÌ¹Ì¼'\n",
      " -1 'ð©ð½' '__ï¾(,_,*)' 'ï»¿'\n",
      " 1000000000000000049861653971908893017010268485438462151574892930611988399099305815384459015356416\n",
      " 'âð¿ ðªð¿ ðð¿ ðð¿ ðð¿ ðð¿' '/dev/null; touch /tmp/blns.fail ; echo'\n",
      " 'Î©âÃ§ââ«ËÂµâ¤â¥Ã·' 'ï¼ï¼ï¼' '(â¯Â°â¡Â°ï¼â¯ï¸µ â»ââ»)' '0/0'\n",
      " ',ãã»:*:ã»ãâ( â» Ï â» )ãã»:*:ã»ãâ'\n",
      " '×Ö¼Ö°×¨Öµ××©×Ö´××ª, ×Ö¼Ö¸×¨Ö¸× ×Ö±×Ö¹×Ö´××, ×Öµ×ª ×Ö·×©Ö¼×Ö¸×Ö·×Ö´×, ×Ö°×Öµ×ª ×Ö¸×Ö¸×¨Ö¶×¥'\n",
      " '../../../../../../../../../../../etc/passwd%00' 'âââ'\n",
      " '×Ö¸×Ö°×ªÖ¸×testØ§ÙØµÙØ\\xadØ§Øª Ø§ÙØªÙØ\\xadÙÙ'\n",
      " \"ËÉnbá´lÉ ÉuÆÉÉ¯ ÇÉ¹olop ÊÇ ÇÉ¹oqÉl Ên Êunpá´pá´Éuá´ É¹odÉ¯ÇÊ poÉ¯sná´Ç op pÇs 'Êá´lÇ Æuá´Ésá´dá´pÉ É¹nÊÇÊÉÇsuoÉ 'ÊÇÉ¯É Êá´s É¹olop É¯nsdá´ É¯ÇÉ¹oË¥\"\n",
      " \",./;'[]\\\\-=\" '00ËÆ$-' \"1'; DROP TABLE users--\" 'Â¸ËÃâÄ±ËÃÂ¯ËÂ¿'\n",
      " 'ð\\xa0ð\\xa0±ð\\xa0¹ð\\xa0±ð\\xa0±¸ð\\xa0²ð\\xa0³'\n",
      " '() { _; } >_[$($())] { touch /tmp/blns.shellshock2.fail; }'\n",
      " 'ÅâÂ´Â®â\\xa0Â¥Â¨ËÃ¸Ïââ' 'ã½à¼¼àºÙÍàºà¼½ï¾ ã½à¼¼àºÙÍàºà¼½ï¾'\n",
      " 'â¤ï¸ ð ð ð ð ð ð ð ð ð ð ð ð ð ð' 'â¦testâ§' -0.5\n",
      " '0ï¸â£ 1ï¸â£ 2ï¸â£ 3ï¸â£ 4ï¸â£ 5ï¸â£ 6ï¸â£ 7ï¸â£ 8ï¸â£ 9ï¸â£ ð'\n",
      " \"<svg><script>0<1>alert('XSS')</script>\"\n",
      " 'ÌÌºÍÌ¹Ì¯ÍTÌ±Ì¤ÍÌ¥ÍÍhÍÌ²eÍÍÌ¼ÌÌÌ¼Ì£Í ÍÌÌ±Ì\\xa0ÍÍÍNÍ\\xa0ÍeÌÌ±zÌÌÌÌºÍpÌ¤ÌºÌ¹ÍÌ¯ÍeÍÌ\\xa0Ì»Ì\\xa0rÌ¨Ì¤ÍÌºÌÍÌÌdÍÌ\\xa0ÌÌ\\xadÌ¬ÌiÌ¦ÍÌ©ÍÍÌ¤aÌ\\xa0ÌÌ¬ÍÌnÍÍ Ì»ÌÌ°ÍÍhÌµÍiÌ³ÌvÌ¢ÍeÍÌ\\xadÍ-ÒÌ\\xadÌ©Ì¼ÍmÌ¤Ì\\xadÌ«iÍÍÌÌ¦nÌÍdÌ£Ì ÍÌ¯Ì²ÍoÌ¨ÌÌ¯Ì°Ì²'\n",
      " 'Â¡â¢Â£Â¢âÂ§Â¶â¢ÂªÂºââ\\xa0' \"<img src=x onerror=alert('hi') />\" 1\n",
      " 'ï¾ï½¥â¿ã¾â²(ï½¡ââ¿âï½¡)â±â¿ï½¥ï¾' 0 'â«testâ«' 'ã'\n",
      " 'ç¤¾æç§å\\xad¸é¢èªå\\xad¸ç\\xa0ç©¶æ'\n",
      " '../../../../../../../../../../../etc/hosts' '<>?:\"{}|_+' 'â' 'åè£½æ¼¢èª'\n",
      " 'ÅâÂ´â°ËÃÂ¨ËÃâââ' 'ð' 'âªâªtestâª' 'ç°ä¸\\xadããã«ããã¦ä¸ãã'\n",
      " 'ì¬íê³¼íì ì´íì°êµ¬ì' 'Ã¥ÃâÆÂ©ËâËÂ¬â¦Ã¦' 'â£' '`ââ¬â¹âºï¬ï¬â¡Â°Â·ââÂ±'\n",
      " '1;DROP TABLE users' '!@#$%^&*()' 'â¡'\n",
      " 'Ø«Ù ÙÙØ³ Ø³ÙØ·Øª ÙØ¨Ø§ÙØªØ\\xadØ¯ÙØ¯Ø, Ø¬Ø²ÙØ±ØªÙ Ø¨Ø§Ø³ØªØ®Ø¯Ø§Ù Ø£Ù Ø¯ÙÙ. Ø¥Ø° ÙÙØ§Ø Ø§ÙØ³ØªØ§Ø± ÙØªÙØµÙØ¨ ÙØ§Ù. Ø£ÙÙÙ Ø§ÙØ·Ø§ÙÙØ§Ø Ø¨Ø±ÙØ·Ø§ÙÙØ§-ÙØ±ÙØ³Ø§ ÙØ¯ Ø£Ø®Ø°. Ø³ÙÙÙØ§ÙØ Ø¥ØªÙØ§ÙÙØ© Ø¨ÙÙ ÙØ§, ÙØ°ÙØ± Ø'\n",
      " 'ÃÃÃÃËÃÃï£¿ÃÃÃâ' 'nil' 'NIL' 'ð¾ ð ð ð ð ð ð ð'\n",
      " \"<script>alert('hi')</script>\" 'ì¸ëë°í\\xa0ë¥´']\n",
      "\n",
      "\n",
      "owns_car  :  2\n",
      "['Yes' 'No']\n",
      "\n",
      "\n",
      "tenure  :  23\n",
      "[10. 22. 16.  2. 12. 18.  6.  7.  8. 13. nan 19.  4.  3.  9. 15. 17.  1.\n",
      " 20. 11. 21.  5. 14.]\n",
      "\n",
      "\n",
      "column  address  has high variance\n",
      "\n",
      "\n",
      "column  postcode  has high variance\n",
      "\n",
      "\n",
      "state  :  5\n",
      "['VIC' 'NSW' 'QLD' 'Victoria' 'New South Wales']\n",
      "\n",
      "\n",
      "column  country  has zero variance\n",
      "\n",
      "\n",
      "property_valuation  :  12\n",
      "[ 6  5  1 10  7  4  8  9 11  2 12  3]\n"
     ]
    }
   ],
   "source": [
    "# checking what type of values do each of the columns in the dataset take\n",
    "print(\" Size of the data set\",data.shape,\"\\n\\n\",\"Number of Unique values per column \\n\")\n",
    "for column in data.columns:\n",
    "    print(\"\\n\")\n",
    "    if(data[column].unique().shape[0] ==1 ):\n",
    "        print(\"column \" ,column, \" has zero variance\")\n",
    "    elif(data[column].unique().shape[0] > 1 and data[column].unique().shape[0] < 100):\n",
    "        print(column,\" : \",data[column].unique().shape[0])\n",
    "        print(data[column].unique())\n",
    "    else:\n",
    "        print(\"column \" ,column, \" has high variance\")"
   ]
  },
  {
   "cell_type": "code",
   "execution_count": 60,
   "metadata": {},
   "outputs": [
    {
     "name": "stdout",
     "output_type": "stream",
     "text": [
      "online_order  :  360\n",
      "brand  :  197\n",
      "product_line  :  197\n",
      "product_class  :  197\n",
      "product_size  :  197\n",
      "standard_cost  :  197\n",
      "product_first_sold_date  :  197\n"
     ]
    }
   ],
   "source": [
    "for column in Transactions:\n",
    "    num_missing = Transactions[column].isnull().sum()  \n",
    "    if(num_missing > 0):\n",
    "        print(column,\" : \",num_missing)"
   ]
  },
  {
   "cell_type": "code",
   "execution_count": 12,
   "metadata": {},
   "outputs": [
    {
     "name": "stdout",
     "output_type": "stream",
     "text": [
      "online_order  :  359\n",
      "brand  :  195\n",
      "product_line  :  195\n",
      "product_class  :  195\n",
      "product_size  :  195\n",
      "standard_cost  :  195\n",
      "product_first_sold_date  :  195\n",
      "last_name  :  642\n",
      "DOB  :  446\n",
      "job_title  :  2379\n",
      "job_industry_category  :  3222\n",
      "default  :  1451\n",
      "tenure  :  446\n"
     ]
    }
   ],
   "source": [
    "#  missing values per column\n",
    "for column in data:\n",
    "    num_missing = data[column].isnull().sum()\n",
    "    if(num_missing > 0):\n",
    "        print(column,\" : \",num_missing)"
   ]
  },
  {
   "cell_type": "code",
   "execution_count": 48,
   "metadata": {},
   "outputs": [
    {
     "data": {
      "image/png": "[encoded data removed]",
      "text/plain": [
       "<Figure size 1440x432 with 1 Axes>"
      ]
     },
     "metadata": {
      "needs_background": "light"
     },
     "output_type": "display_data"
    }
   ],
   "source": [
    "#sns.set_context('talk')\n",
    "plt.title('Missing value distribution among features', fontsize=25, weight = 'bold')\n",
    "plt.xlabel('Feature', color='#AF5050', labelpad=10, fontsize=20, weight = 'bold') \n",
    "plt.ylabel('Number of missing values', color='#af5050', labelpad=10, fontsize=20, weight = 'bold')\n",
    "plt.rcParams['axes.axisbelow'] = True\n",
    "data.isnull().sum().plot(figsize=(20, 6), color='green', rot=90,kind ='bar')\n",
    "plt.xticks(fontsize=18, rotation=90,weight = 'bold')\n",
    "plt.yticks(fontsize=18, weight = 'bold')\n",
    "matplotlib.pyplot.grid(axis = 'y', linestyle='-.') "
   ]
  },
  {
   "cell_type": "code",
   "execution_count": 17,
   "metadata": {},
   "outputs": [
    {
     "data": {
      "text/plain": [
       "transaction_id                                  int64\n",
       "product_id                                      int64\n",
       "customer_id                                     int64\n",
       "transaction_date                       datetime64[ns]\n",
       "online_order                                  float64\n",
       "order_status                                   object\n",
       "brand                                          object\n",
       "product_line                                   object\n",
       "product_class                                  object\n",
       "product_size                                   object\n",
       "list_price                                    float64\n",
       "standard_cost                                 float64\n",
       "product_first_sold_date                       float64\n",
       "first_name                                     object\n",
       "last_name                                      object\n",
       "gender                                         object\n",
       "past_3_years_bike_related_purchases             int64\n",
       "DOB                                    datetime64[ns]\n",
       "job_title                                      object\n",
       "job_industry_category                          object\n",
       "wealth_segment                                 object\n",
       "deceased_indicator                             object\n",
       "default                                        object\n",
       "owns_car                                       object\n",
       "tenure                                        float64\n",
       "address                                        object\n",
       "postcode                                        int64\n",
       "state                                          object\n",
       "country                                        object\n",
       "property_valuation                              int64\n",
       "dtype: object"
      ]
     },
     "execution_count": 17,
     "metadata": {},
     "output_type": "execute_result"
    }
   ],
   "source": [
    "data.dtypes"
   ]
  },
  {
   "cell_type": "code",
   "execution_count": 33,
   "metadata": {},
   "outputs": [
    {
     "name": "stdout",
     "output_type": "stream",
     "text": [
      "transaction_id          max = 20000          min = 1\n",
      "product_id          max = 100          min = 0\n",
      "customer_id          max = 3500          min = 1\n",
      "online_order          max = 1.0          min = 0.0\n",
      "list_price          max = 2091.47          min = 12.01\n",
      "standard_cost          max = 1759.85          min = 7.21\n",
      "product_first_sold_date          max = 42710.0          min = 33259.0\n",
      "past_3_years_bike_related_purchases          max = 99          min = 0\n",
      "tenure          max = 22.0          min = 1.0\n",
      "postcode          max = 4883          min = 2000\n",
      "property_valuation          max = 12          min = 1\n"
     ]
    }
   ],
   "source": [
    "# checking the maximum and minimum values of numerical columns looking for possible outliers\n",
    "for column in list(data.select_dtypes(include = [\"int64\",\"float64\"]).columns):\n",
    "    maximum = max(data[column])\n",
    "    minimum = min(data[column])\n",
    "    print(column, \"         max =\",maximum, \"         min =\",minimum)"
   ]
  },
  {
   "cell_type": "code",
   "execution_count": 49,
   "metadata": {},
   "outputs": [
    {
     "name": "stdout",
     "output_type": "stream",
     "text": [
      "transaction_date          max = 2017-12-30 00:00:00          min = 2017-01-01 00:00:00\n",
      "DOB          max = 2002-03-11 00:00:00          min = 1843-12-21 00:00:00\n"
     ]
    }
   ],
   "source": [
    "for column in list(data.select_dtypes(include = [\"datetime64[ns]\"]).columns):\n",
    "    maximum = max(data[column])\n",
    "    minimum = min(data[column])\n",
    "    print(column, \"         max =\",maximum, \"         min =\",minimum)"
   ]
  },
  {
   "cell_type": "code",
   "execution_count": 58,
   "metadata": {},
   "outputs": [
    {
     "data": {
      "text/html": [
       "<div>\n",
       "<style scoped>\n",
       "    .dataframe tbody tr th:only-of-type {\n",
       "        vertical-align: middle;\n",
       "    }\n",
       "\n",
       "    .dataframe tbody tr th {\n",
       "        vertical-align: top;\n",
       "    }\n",
       "\n",
       "    .dataframe thead th {\n",
       "        text-align: right;\n",
       "    }\n",
       "</style>\n",
       "<table border=\"1\" class=\"dataframe\">\n",
       "  <thead>\n",
       "    <tr style=\"text-align: right;\">\n",
       "      <th></th>\n",
       "      <th>transaction_id</th>\n",
       "      <th>product_id</th>\n",
       "      <th>customer_id</th>\n",
       "      <th>transaction_date</th>\n",
       "      <th>online_order</th>\n",
       "      <th>order_status</th>\n",
       "      <th>brand</th>\n",
       "      <th>product_line</th>\n",
       "      <th>product_class</th>\n",
       "      <th>product_size</th>\n",
       "      <th>list_price</th>\n",
       "      <th>standard_cost</th>\n",
       "      <th>product_first_sold_date</th>\n",
       "      <th>first_name</th>\n",
       "      <th>last_name</th>\n",
       "      <th>gender</th>\n",
       "      <th>past_3_years_bike_related_purchases</th>\n",
       "      <th>DOB</th>\n",
       "      <th>job_title</th>\n",
       "      <th>job_industry_category</th>\n",
       "      <th>wealth_segment</th>\n",
       "      <th>deceased_indicator</th>\n",
       "      <th>default</th>\n",
       "      <th>owns_car</th>\n",
       "      <th>tenure</th>\n",
       "      <th>address</th>\n",
       "      <th>postcode</th>\n",
       "      <th>state</th>\n",
       "      <th>country</th>\n",
       "      <th>property_valuation</th>\n",
       "    </tr>\n",
       "  </thead>\n",
       "  <tbody>\n",
       "    <tr>\n",
       "      <th>5895</th>\n",
       "      <td>1107</td>\n",
       "      <td>15</td>\n",
       "      <td>34</td>\n",
       "      <td>2017-08-22</td>\n",
       "      <td>0.0</td>\n",
       "      <td>Approved</td>\n",
       "      <td>Norco Bicycles</td>\n",
       "      <td>Standard</td>\n",
       "      <td>low</td>\n",
       "      <td>medium</td>\n",
       "      <td>958.74</td>\n",
       "      <td>748.90</td>\n",
       "      <td>38693.0</td>\n",
       "      <td>Jephthah</td>\n",
       "      <td>Bachmann</td>\n",
       "      <td>U</td>\n",
       "      <td>59</td>\n",
       "      <td>1843-12-21</td>\n",
       "      <td>Legal Assistant</td>\n",
       "      <td>IT</td>\n",
       "      <td>Affluent Customer</td>\n",
       "      <td>N</td>\n",
       "      <td>NaN</td>\n",
       "      <td>No</td>\n",
       "      <td>20.0</td>\n",
       "      <td>833 Luster Way</td>\n",
       "      <td>4005</td>\n",
       "      <td>QLD</td>\n",
       "      <td>Australia</td>\n",
       "      <td>8</td>\n",
       "    </tr>\n",
       "    <tr>\n",
       "      <th>5894</th>\n",
       "      <td>1039</td>\n",
       "      <td>8</td>\n",
       "      <td>34</td>\n",
       "      <td>2017-07-01</td>\n",
       "      <td>1.0</td>\n",
       "      <td>Approved</td>\n",
       "      <td>Solex</td>\n",
       "      <td>Road</td>\n",
       "      <td>medium</td>\n",
       "      <td>small</td>\n",
       "      <td>1703.52</td>\n",
       "      <td>1516.13</td>\n",
       "      <td>40649.0</td>\n",
       "      <td>Jephthah</td>\n",
       "      <td>Bachmann</td>\n",
       "      <td>U</td>\n",
       "      <td>59</td>\n",
       "      <td>1843-12-21</td>\n",
       "      <td>Legal Assistant</td>\n",
       "      <td>IT</td>\n",
       "      <td>Affluent Customer</td>\n",
       "      <td>N</td>\n",
       "      <td>NaN</td>\n",
       "      <td>No</td>\n",
       "      <td>20.0</td>\n",
       "      <td>833 Luster Way</td>\n",
       "      <td>4005</td>\n",
       "      <td>QLD</td>\n",
       "      <td>Australia</td>\n",
       "      <td>8</td>\n",
       "    </tr>\n",
       "  </tbody>\n",
       "</table>\n",
       "</div>"
      ],
      "text/plain": [
       "      transaction_id  product_id  customer_id transaction_date  online_order  \\\n",
       "5895            1107          15           34       2017-08-22           0.0   \n",
       "5894            1039           8           34       2017-07-01           1.0   \n",
       "\n",
       "     order_status           brand product_line product_class product_size  \\\n",
       "5895     Approved  Norco Bicycles     Standard           low       medium   \n",
       "5894     Approved           Solex         Road        medium        small   \n",
       "\n",
       "      list_price  standard_cost  product_first_sold_date first_name last_name  \\\n",
       "5895      958.74         748.90                  38693.0   Jephthah  Bachmann   \n",
       "5894     1703.52        1516.13                  40649.0   Jephthah  Bachmann   \n",
       "\n",
       "     gender  past_3_years_bike_related_purchases        DOB        job_title  \\\n",
       "5895      U                                   59 1843-12-21  Legal Assistant   \n",
       "5894      U                                   59 1843-12-21  Legal Assistant   \n",
       "\n",
       "     job_industry_category     wealth_segment deceased_indicator default  \\\n",
       "5895                    IT  Affluent Customer                  N     NaN   \n",
       "5894                    IT  Affluent Customer                  N     NaN   \n",
       "\n",
       "     owns_car  tenure         address  postcode state    country  \\\n",
       "5895       No    20.0  833 Luster Way      4005   QLD  Australia   \n",
       "5894       No    20.0  833 Luster Way      4005   QLD  Australia   \n",
       "\n",
       "      property_valuation  \n",
       "5895                   8  \n",
       "5894                   8  "
      ]
     },
     "execution_count": 58,
     "metadata": {},
     "output_type": "execute_result"
    }
   ],
   "source": [
    "# The date of bitth values range from 12-Dec-1843 to 11-3-2003. \n",
    "data.sort_values(by=\"DOB\").head(2)"
   ]
  },
  {
   "cell_type": "markdown",
   "metadata": {},
   "source": [
    "# Solution to Task-1"
   ]
  },
  {
   "cell_type": "markdown",
   "metadata": {},
   "source": [
    "### Draft Email\n",
    "\n",
    "Greetings,\n",
    "\n",
    "we have conducted a data quality assesment of the datasets you have provided us with. \n",
    "The three data sets(\"Transactions\" \"CustomerDemographic\" \"CustomerAddress\") are combined to form a larger\n",
    "dataset of your customers information and their corresponding transactions. This combination is called inner join.\n",
    "<br />\n",
    "Here is a breief report of the data quality issues we found.\n",
    "\n",
    "\n",
    "1) There are some missing values in the following columns. The number of missing values per cloumn is shown below. These missing avlues are needed to be removed or if possible filled with suitable values for further analysis\n",
    "<br />\n",
    "<br />\n",
    "online_order             :  359<br />\n",
    "brand                    :  195<br />\n",
    "product_line             :  195<br />\n",
    "product_class            :  195<br />\n",
    "product_size             :  195<br />\n",
    "standard_cost            :  195<br />\n",
    "product_first_sold_date  :  195<br />\n",
    "last_name                :  642<br />\n",
    "DOB                      :  446<br />\n",
    "job_title                :  2379<br />\n",
    "job_industry_category    :  3222<br />\n",
    "default                  :  1451<br />\n",
    "tenure                   :  446<br />\n",
    "\n",
    "<br />\n",
    "\n",
    "\n",
    "2) The column \"product_first_sold_date\" has values that cannot be interpreted as a date. Example values are 41245.0\t,37659.0 etc. <br />\n",
    "This column should be removed \n",
    "<br />\n",
    "\n",
    "\n",
    "3) The column gender represents the gender class with different notations <br />\n",
    "Females are given values as \"F\", \"Femal\" and \"Female\". similarly males are \"M\", \"Male\". This has to be corrected by using same value for a given gender for a consistent representation.\n",
    "<br />\n",
    "\n",
    "\n",
    "4) The column \"default\" has many absurb values and should be removed from the dataset <br />\n",
    "This column has values that cannot be interpreted or used for any analysis. This column has to be removed from the data set\n",
    "<br />\n",
    "\n",
    "\n",
    "5) The column country has zero variance and is not usefull for analysis <br />\n",
    "As your all your customers are from the same country it can be safely removed. \n",
    "<br />\n",
    "\n",
    "\n",
    "6) The customer with customer_id = 34 was born in the year 1843. This is absurd <br />\n",
    "This could be an error and needs to be checked\n",
    "<br />\n",
    "\n",
    "\n",
    "\n",
    "These issues with the data need to be corrected before further analysing the data. <br />\n",
    "<br />\n",
    "\n",
    "\n",
    "kind regards, <br />\n",
    "vishwanath reddy Aenugu <br />\n",
    "Intern at KPMG <br />"
   ]
  },
  {
   "cell_type": "code",
   "execution_count": null,
   "metadata": {},
   "outputs": [],
   "source": []
  },
  {
   "cell_type": "code",
   "execution_count": null,
   "metadata": {},
   "outputs": [],
   "source": []
  },
  {
   "cell_type": "code",
   "execution_count": null,
   "metadata": {},
   "outputs": [],
   "source": []
  }
 ],
 "metadata": {
  "interpreter": {
   "hash": "99c5a35bf395c23ad1ea8f0d7552bc5fde5cdd462cc51c20d5f7b18f40f2b796"
  },
  "kernelspec": {
   "display_name": "Python 3",
   "language": "python",
   "name": "python3"
  },
  "language_info": {
   "codemirror_mode": {
    "name": "ipython",
    "version": 3
   },
   "file_extension": ".py",
   "mimetype": "text/x-python",
   "name": "python",
   "nbconvert_exporter": "python",
   "pygments_lexer": "ipython3",
   "version": "3.8.3"
  }
 },
 "nbformat": 4,
 "nbformat_minor": 5
}
