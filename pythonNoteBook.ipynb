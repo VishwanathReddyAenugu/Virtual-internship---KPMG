{
 "cells": [
  {
   "cell_type": "markdown",
   "metadata": {},
   "source": [
    "## Business requirements\n",
    "Sprocket Central Pty Ltd needs help with its customer and transactions data. The organisation has a large dataset relating to its customers, but their team is unsure how to effectively analyse it to help optimise its marketing strategy. \n",
    "## Task 1\n",
    "please find the 3 datasets attached from Sprocket Central Pty Ltd: \n",
    "<br />\n",
    "1) *Customer Demographic* <br />\n",
    "2) *Customer Addresses*  <br/>\n",
    "3) *Transaction data in the past three months*  \n",
    "<br />\n",
    "Can you please review the data quality to ensure that it is ready for our analysis in phase two. Remember to take note of any assumptions or issues we need to go back to the client on. As well as recommendations going forward to mitigate current data quality concerns.\n",
    "\n",
    "\n",
    "“Hi there – Welcome again to the team! The client has asked our team to assess the quality of their data; as well as make recommendations on ways to clean the underlying data and mitigate these issues.  Can you please take a look at the datasets we’ve received and draft an email to them identifying the data quality issues and how this may impact our analysis going forward?\n",
    "\n",
    "I will send through an example of a typical data quality framework that can be used as a guide. Remember to consider the join keys between the tables too. Thanks again for your help.”"
   ]
  },
  {
   "cell_type": "code",
   "execution_count": 2,
   "metadata": {},
   "outputs": [],
   "source": [
    "import pandas as pd \n",
    "from matplotlib import pyplot as plt "
   ]
  },
  {
   "cell_type": "code",
   "execution_count": 3,
   "metadata": {},
   "outputs": [],
   "source": [
    "excelFile = pd.ExcelFile(\"kpmg.xlsx\")       # pip install openpyxl"
   ]
  },
  {
   "cell_type": "code",
   "execution_count": 4,
   "metadata": {},
   "outputs": [],
   "source": [
    "Transactions = pd.read_excel(excelFile, 'Transactions', skiprows=[0]) \n",
    "CustomerDemographic = pd.read_excel(excelFile,'CustomerDemographic', skiprows=[0]) \n",
    "CustomerAddress = pd.read_excel(excelFile, 'CustomerAddress', skiprows=[0])\n",
    "pd.set_option(\"display.max_columns\",100) \n",
    "pd.set_option(\"display.max_rows\",None) "
   ]
  },
  {
   "cell_type": "code",
   "execution_count": 5,
   "metadata": {},
   "outputs": [
    {
     "data": {
      "text/plain": [
       "Index(['transaction_id', 'product_id', 'customer_id', 'transaction_date',\n",
       "       'online_order', 'order_status', 'brand', 'product_line',\n",
       "       'product_class', 'product_size', 'list_price', 'standard_cost',\n",
       "       'product_first_sold_date'],\n",
       "      dtype='object')"
      ]
     },
     "execution_count": 5,
     "metadata": {},
     "output_type": "execute_result"
    }
   ],
   "source": [
    "Transactions.columns "
   ]
  },
  {
   "cell_type": "code",
   "execution_count": 6,
   "metadata": {},
   "outputs": [
    {
     "data": {
      "text/plain": [
       "Index(['customer_id', 'first_name', 'last_name', 'gender',\n",
       "       'past_3_years_bike_related_purchases', 'DOB', 'job_title',\n",
       "       'job_industry_category', 'wealth_segment', 'deceased_indicator',\n",
       "       'default', 'owns_car', 'tenure'],\n",
       "      dtype='object')"
      ]
     },
     "execution_count": 6,
     "metadata": {},
     "output_type": "execute_result"
    }
   ],
   "source": [
    "Transactions = Transactions.iloc[:,0:13] \n",
    "CustomerDemographic.columns"
   ]
  },
  {
   "cell_type": "code",
   "execution_count": 7,
   "metadata": {},
   "outputs": [
    {
     "data": {
      "text/plain": [
       "Index(['customer_id', 'address', 'postcode', 'state', 'country',\n",
       "       'property_valuation'],\n",
       "      dtype='object')"
      ]
     },
     "execution_count": 7,
     "metadata": {},
     "output_type": "execute_result"
    }
   ],
   "source": [
    "CustomerDemographic = CustomerDemographic.iloc[:,0:13] \n",
    "CustomerAddress.columns "
   ]
  },
  {
   "cell_type": "code",
   "execution_count": 8,
   "metadata": {},
   "outputs": [
    {
     "data": {
      "text/html": [
       "<div>\n",
       "<style scoped>\n",
       "    .dataframe tbody tr th:only-of-type {\n",
       "        vertical-align: middle;\n",
       "    }\n",
       "\n",
       "    .dataframe tbody tr th {\n",
       "        vertical-align: top;\n",
       "    }\n",
       "\n",
       "    .dataframe thead th {\n",
       "        text-align: right;\n",
       "    }\n",
       "</style>\n",
       "<table border=\"1\" class=\"dataframe\">\n",
       "  <thead>\n",
       "    <tr style=\"text-align: right;\">\n",
       "      <th></th>\n",
       "      <th>customer_id</th>\n",
       "      <th>address</th>\n",
       "      <th>postcode</th>\n",
       "      <th>state</th>\n",
       "      <th>country</th>\n",
       "      <th>property_valuation</th>\n",
       "    </tr>\n",
       "  </thead>\n",
       "  <tbody>\n",
       "  </tbody>\n",
       "</table>\n",
       "</div>"
      ],
      "text/plain": [
       "Empty DataFrame\n",
       "Columns: [customer_id, address, postcode, state, country, property_valuation]\n",
       "Index: []"
      ]
     },
     "execution_count": 8,
     "metadata": {},
     "output_type": "execute_result"
    }
   ],
   "source": [
    "CustomerAddress = CustomerAddress.iloc[:,0:6]  \n",
    "CustomerAddress.head(0) "
   ]
  },
  {
   "cell_type": "code",
   "execution_count": 12,
   "metadata": {},
   "outputs": [],
   "source": [
    "data = pd.merge(CustomerDemographic,CustomerAddress, on=\"customer_id\")  \n",
    "data = pd.merge(Transactions,data, on=\"customer_id\") \n",
    "data.to_csv(\"customerData.csv\") "
   ]
  },
  {
   "cell_type": "code",
   "execution_count": 31,
   "metadata": {},
   "outputs": [
    {
     "name": "stdout",
     "output_type": "stream",
     "text": [
      " Size of the data set (19968, 30) \n",
      " Number of Unique values per column \n",
      "\n",
      "transaction_id  :  19968\n",
      "product_id  :  101\n",
      "customer_id  :  3489\n",
      "transaction_date  :  364\n",
      "online_order  :  3\n",
      "order_status  :  2\n",
      "brand  :  7\n",
      "product_line  :  5\n",
      "product_class  :  4\n",
      "product_size  :  4\n",
      "list_price  :  294\n",
      "standard_cost  :  101\n",
      "product_first_sold_date  :  101\n",
      "first_name  :  2835\n",
      "last_name  :  3264\n",
      "gender  :  6\n",
      "past_3_years_bike_related_purchases  :  100\n",
      "DOB  :  3048\n",
      "job_title  :  196\n",
      "job_industry_category  :  10\n",
      "wealth_segment  :  3\n",
      "deceased_indicator  :  2\n",
      "default  :  91\n",
      "owns_car  :  2\n",
      "tenure  :  23\n",
      "address  :  3487\n",
      "postcode  :  835\n",
      "state  :  5\n",
      "country  :  1\n",
      "property_valuation  :  12\n"
     ]
    }
   ],
   "source": [
    "print(\" Size of the data set\",data.shape,\"\\n\",\"Number of Unique values per column \\n\")\n",
    "for column in data.columns:\n",
    "    print(column,\" : \",data[column].unique().shape[0])"
   ]
  },
  {
   "cell_type": "code",
   "execution_count": 27,
   "metadata": {},
   "outputs": [
    {
     "name": "stdout",
     "output_type": "stream",
     "text": [
      "<class 'pandas.core.frame.DataFrame'>\n",
      "Int64Index: 19968 entries, 0 to 19967\n",
      "Data columns (total 30 columns):\n",
      " #   Column                               Non-Null Count  Dtype         \n",
      "---  ------                               --------------  -----         \n",
      " 0   transaction_id                       19968 non-null  int64         \n",
      " 1   product_id                           19968 non-null  int64         \n",
      " 2   customer_id                          19968 non-null  int64         \n",
      " 3   transaction_date                     19968 non-null  datetime64[ns]\n",
      " 4   online_order                         19609 non-null  float64       \n",
      " 5   order_status                         19968 non-null  object        \n",
      " 6   brand                                19773 non-null  object        \n",
      " 7   product_line                         19773 non-null  object        \n",
      " 8   product_class                        19773 non-null  object        \n",
      " 9   product_size                         19773 non-null  object        \n",
      " 10  list_price                           19968 non-null  float64       \n",
      " 11  standard_cost                        19773 non-null  float64       \n",
      " 12  product_first_sold_date              19773 non-null  float64       \n",
      " 13  first_name                           19968 non-null  object        \n",
      " 14  last_name                            19326 non-null  object        \n",
      " 15  gender                               19968 non-null  object        \n",
      " 16  past_3_years_bike_related_purchases  19968 non-null  int64         \n",
      " 17  DOB                                  19522 non-null  datetime64[ns]\n",
      " 18  job_title                            17589 non-null  object        \n",
      " 19  job_industry_category                16746 non-null  object        \n",
      " 20  wealth_segment                       19968 non-null  object        \n",
      " 21  deceased_indicator                   19968 non-null  object        \n",
      " 22  default                              18517 non-null  object        \n",
      " 23  owns_car                             19968 non-null  object        \n",
      " 24  tenure                               19522 non-null  float64       \n",
      " 25  address                              19968 non-null  object        \n",
      " 26  postcode                             19968 non-null  int64         \n",
      " 27  state                                19968 non-null  object        \n",
      " 28  country                              19968 non-null  object        \n",
      " 29  property_valuation                   19968 non-null  int64         \n",
      "dtypes: datetime64[ns](2), float64(5), int64(6), object(17)\n",
      "memory usage: 4.7+ MB\n"
     ]
    }
   ],
   "source": [
    "data.info()"
   ]
  },
  {
   "cell_type": "code",
   "execution_count": 39,
   "metadata": {},
   "outputs": [
    {
     "data": {
      "text/plain": [
       "transaction_id                         False\n",
       "product_id                             False\n",
       "customer_id                            False\n",
       "transaction_date                       False\n",
       "online_order                            True\n",
       "order_status                           False\n",
       "brand                                   True\n",
       "product_line                            True\n",
       "product_class                           True\n",
       "product_size                            True\n",
       "list_price                             False\n",
       "standard_cost                           True\n",
       "product_first_sold_date                 True\n",
       "first_name                             False\n",
       "last_name                               True\n",
       "gender                                 False\n",
       "past_3_years_bike_related_purchases    False\n",
       "DOB                                     True\n",
       "job_title                               True\n",
       "job_industry_category                   True\n",
       "wealth_segment                         False\n",
       "deceased_indicator                     False\n",
       "default                                 True\n",
       "owns_car                               False\n",
       "tenure                                  True\n",
       "address                                False\n",
       "postcode                               False\n",
       "state                                  False\n",
       "country                                False\n",
       "property_valuation                     False\n",
       "dtype: bool"
      ]
     },
     "execution_count": 39,
     "metadata": {},
     "output_type": "execute_result"
    }
   ],
   "source": [
    "(data.isnull().sum() > 0) "
   ]
  },
  {
   "cell_type": "code",
   "execution_count": null,
   "metadata": {},
   "outputs": [],
   "source": []
  },
  {
   "cell_type": "code",
   "execution_count": null,
   "metadata": {},
   "outputs": [],
   "source": []
  },
  {
   "cell_type": "code",
   "execution_count": null,
   "metadata": {},
   "outputs": [],
   "source": []
  },
  {
   "cell_type": "code",
   "execution_count": null,
   "metadata": {},
   "outputs": [],
   "source": []
  },
  {
   "cell_type": "code",
   "execution_count": null,
   "metadata": {},
   "outputs": [],
   "source": []
  }
 ],
 "metadata": {
  "interpreter": {
   "hash": "99c5a35bf395c23ad1ea8f0d7552bc5fde5cdd462cc51c20d5f7b18f40f2b796"
  },
  "kernelspec": {
   "display_name": "Python 3",
   "language": "python",
   "name": "python3"
  },
  "language_info": {
   "codemirror_mode": {
    "name": "ipython",
    "version": 3
   },
   "file_extension": ".py",
   "mimetype": "text/x-python",
   "name": "python",
   "nbconvert_exporter": "python",
   "pygments_lexer": "ipython3",
   "version": "3.8.3"
  }
 },
 "nbformat": 4,
 "nbformat_minor": 5
}
